{
 "cells": [
  {
   "cell_type": "code",
   "execution_count": 1,
   "metadata": {},
   "outputs": [
    {
     "name": "stdout",
     "output_type": "stream",
     "text": [
      "False\n",
      "[PhysicalDevice(name='/physical_device:GPU:0', device_type='GPU')]\n"
     ]
    }
   ],
   "source": [
    "%load_ext autoreload\n",
    "%autoreload 2\n",
    "\n",
    "import numpy as np\n",
    "from tensorflow.keras.preprocessing.image import ImageDataGenerator\n",
    "from matplotlib import pyplot as plt\n",
    "from tensorflow.keras import layers, Sequential\n",
    "\n",
    "import pandas as pd\n",
    "import tensorflow as tf\n",
    "\n",
    "from sklearn.metrics import accuracy_score, f1_score\n",
    "from sklearn.metrics import confusion_matrix\n",
    "from tensorflow.keras.metrics import AUC, BinaryAccuracy\n",
    "\n",
    "import seaborn as sns\n",
    "\n",
    "print(tf.test.is_built_with_cuda())\n",
    "gpu_available = tf.config.list_physical_devices('GPU')\n",
    "print(gpu_available)\n",
    "\n",
    "from config import img_size, batch_size, model_path\n",
    "\n",
    "\n",
    "from ipywidgets import interact\n",
    "import ipywidgets as widgets\n",
    "\n",
    "import IPython.display"
   ]
  },
  {
   "cell_type": "markdown",
   "metadata": {},
   "source": [
    "### Load the data"
   ]
  },
  {
   "cell_type": "code",
   "execution_count": 2,
   "metadata": {},
   "outputs": [],
   "source": [
    "def load_data():\n",
    "    df = pd.read_csv(\"data/HAM10000_metadata.csv\")\n",
    "    df[\"label\"] = df[\"dx\"].apply(lambda dx: \"malignant\" if dx in [\"akiec\", \"bcc\", \"mel\"] else \"benign\") \n",
    "    df[\"image_id\"] = df[\"image_id\"].apply(lambda id: f\"{id}.jpg\")\n",
    "\n",
    "    df_benign = df[df[\"label\"] == \"benign\"]\n",
    "    df_malignant = df[df[\"label\"] == \"malignant\"]\n",
    "    df = pd.concat([df_benign.sample(frac=0.25, random_state=0), df_malignant])\n",
    "    \n",
    "    df = df.sample(frac=1, random_state=0)\n",
    "\n",
    "    # print(len(df))\n",
    "    # print(len(df[df[\"label\"] == \"benign\"]))\n",
    "    # print(len(df[df[\"label\"] == \"malignant\"]))\n",
    "\n",
    "    # print(df.head())\n",
    "\n",
    "    # 3969\n",
    "    \n",
    "    training_df = df[:3000]\n",
    "    validation_df = df[3000:3500]\n",
    "    testing_df = df[3500:]\n",
    "\n",
    "    print(f\"Malignant proportion in training set: {len(training_df[training_df['label'] == 'malignant']) / float(len(training_df))}\")\n",
    "    print(f\"Malignant proportion in validation set: {len(validation_df[validation_df['label'] == 'malignant']) / float(len(validation_df))}\")\n",
    "    print(f\"Malignant proportion in test set: {len(testing_df[testing_df['label'] == 'malignant']) / float(len(testing_df))}\")\n",
    "    \n",
    "    \n",
    "    training_data_generator = ImageDataGenerator(\n",
    "        rescale=1.0/255,\n",
    "        rotation_range=360,\n",
    "        horizontal_flip=True,\n",
    "        vertical_flip=True,\n",
    "        brightness_range=[0.85, 1.15],\n",
    "        zoom_range=[0.85, 1.15]\n",
    "    )\n",
    "\n",
    "    validation_data_generator = ImageDataGenerator(\n",
    "        rescale=1.0/255\n",
    "    )\n",
    "    \n",
    "    testing_data_generator = ImageDataGenerator(\n",
    "        rescale=1.0/255\n",
    "    )\n",
    "    \n",
    "    training_data = training_data_generator.flow_from_dataframe(\n",
    "        dataframe= training_df,\n",
    "        directory=\"data/images\",\n",
    "        x_col=\"image_id\",\n",
    "        y_col=\"label\",\n",
    "        target_size=(img_size, img_size),\n",
    "        batch_size=batch_size,\n",
    "        class_mode=\"binary\",\n",
    "        classes=[\"benign\", \"malignant\"],\n",
    "        shuffle=False\n",
    "    )\n",
    "\n",
    "    validation_data = validation_data_generator.flow_from_dataframe(\n",
    "        dataframe=validation_df,\n",
    "        directory=\"data/images\",\n",
    "        x_col=\"image_id\",\n",
    "        y_col=\"label\",\n",
    "        target_size=(img_size, img_size),\n",
    "        batch_size=batch_size,\n",
    "        class_mode=\"binary\",\n",
    "        classes=[\"benign\", \"malignant\"],\n",
    "        shuffle=False\n",
    "    )\n",
    "\n",
    "    test_data = testing_data_generator.flow_from_dataframe(\n",
    "        dataframe=testing_df,\n",
    "        directory=\"data/images\",\n",
    "        x_col=\"image_id\",\n",
    "        y_col=\"label\",\n",
    "        target_size=(img_size, img_size),\n",
    "        class_mode=\"binary\",\n",
    "        classes=[\"benign\", \"malignant\"],\n",
    "        batch_size=1015,\n",
    "        shuffle=False\n",
    "    )\n",
    "\n",
    "    return training_data, validation_data, test_data\n"
   ]
  },
  {
   "cell_type": "markdown",
   "metadata": {},
   "source": [
    "### Creating the model\n",
    "Explanation of why the model looks like it does"
   ]
  },
  {
   "cell_type": "code",
   "execution_count": 3,
   "metadata": {},
   "outputs": [],
   "source": [
    "def create_model():\n",
    "    _metrics = [BinaryAccuracy(name=\"accuracy\"), AUC(name=\"auc\")]\n",
    "\n",
    "    model = Sequential()\n",
    "    model.add(layers.Conv2D(32, (3, 3), activation='relu', input_shape=(img_size, img_size, 3)))\n",
    "    model.add(layers.MaxPooling2D((2, 2)))\n",
    "    model.add(layers.Conv2D(64, (3, 3), activation='relu'))\n",
    "    model.add(layers.Flatten())\n",
    "    model.add(layers.Dense(64, activation='relu'))\n",
    "    model.add(layers.Dense(1, activation='sigmoid'))\n",
    "    model.compile(optimizer='adam', loss=\"binary_crossentropy\", metrics=_metrics)\n",
    "\n",
    "    # model =  Sequential()\n",
    "    # model.add(layers.Conv2D(filters=96, kernel_size=(11, 11), strides=(4, 4), activation='relu', padding='valid', input_shape=(img_size, img_size, 3)))\n",
    "    # model.add(layers.MaxPool2D((3, 3), strides=(2, 2), padding='valid'))\n",
    "    # model.add(layers.Conv2D(filters=256, kernel_size=(5, 5), strides=(1, 1), padding='same', activation='relu'))\n",
    "    # model.add(layers.MaxPool2D(pool_size=(3, 3), strides=(2, 2), padding='valid'))\n",
    "    # model.add(layers.Conv2D(filters=384, kernel_size=(3, 3), strides=(1, 1), padding='same', activation='relu'))\n",
    "    # model.add(layers.Conv2D(filters=384, kernel_size=(3, 3), strides=(1, 1), padding='same', activation='relu'))\n",
    "    # model.add(layers.Conv2D(filters=256, kernel_size=(3, 3), strides=(1, 1), padding='same', activation='relu'))\n",
    "    # model.add(layers.Flatten())\n",
    "    # model.add(layers.Dense(4096, activation='relu'))\n",
    "    # model.add(layers.Dense(4096, activation='relu'))\n",
    "    # model.add(layers.Dense(1, activation='sigmoid'))\n",
    "    # model.compile(optimizer='adam', loss=\"binary_crossentropy\", metrics=_metrics)\n",
    "\n",
    "    return model"
   ]
  },
  {
   "cell_type": "markdown",
   "metadata": {},
   "source": [
    "### Training the model"
   ]
  },
  {
   "cell_type": "code",
   "execution_count": 4,
   "metadata": {},
   "outputs": [],
   "source": [
    "def train_model(model, training_data, validation_data, epochs=2):\n",
    "    history = model.fit(training_data, epochs=epochs, validation_data=validation_data, verbose=1)\n",
    "    return history"
   ]
  },
  {
   "cell_type": "markdown",
   "metadata": {},
   "source": [
    "### Evaluate the model"
   ]
  },
  {
   "cell_type": "code",
   "execution_count": 5,
   "metadata": {},
   "outputs": [],
   "source": [
    "def evaluate_model(model, test_data):\n",
    "    data_tuple = test_data[0]\n",
    "    inputs = data_tuple[0]\n",
    "    predicted = model.predict(inputs)\n",
    "    ground_truth = [x[1] for x in data_tuple[1]]\n",
    "    predictions = [x[1] for x in predicted]\n",
    "    rounded_ground_truth = [round(x) for x in ground_truth]\n",
    "    rounded_predictions = [round(x) for x in predictions]\n",
    "    print(\"---- Ground truth ----\")\n",
    "    print(f\"Min: {np.min(ground_truth)}\")\n",
    "    print(f\"Max: {np.max(ground_truth)}\")\n",
    "    print(f\"Mean: {np.mean(ground_truth)}\")\n",
    "    print(f\"Mean rounded: {np.mean(rounded_ground_truth)}\")\n",
    "    print(\"---- Predictions ----\")\n",
    "    print(f\"Min: {np.min(predictions)}\")\n",
    "    print(f\"Max: {np.max(predictions)}\")\n",
    "    print(f\"Mean: {np.mean(predictions)}\")\n",
    "    print(f\"Mean rounded: {np.mean(rounded_predictions)}\")\n",
    "    return accuracy_score(rounded_ground_truth, rounded_predictions), f1_score(rounded_ground_truth, rounded_predictions)"
   ]
  },
  {
   "cell_type": "markdown",
   "metadata": {},
   "source": [
    "Comments on the results"
   ]
  },
  {
   "cell_type": "code",
   "execution_count": 6,
   "metadata": {},
   "outputs": [],
   "source": [
    "def save_model(model, path):\n",
    "    #model.save_weights(path + '/tf')\n",
    "    model.save(path)"
   ]
  },
  {
   "cell_type": "markdown",
   "metadata": {},
   "source": [
    "### Putting it all together"
   ]
  },
  {
   "cell_type": "code",
   "execution_count": 7,
   "metadata": {},
   "outputs": [
    {
     "name": "stdout",
     "output_type": "stream",
     "text": [
      "Metal device set to: Apple M1 Pro\n",
      "\n",
      "systemMemory: 16.00 GB\n",
      "maxCacheSize: 5.33 GB\n",
      "\n",
      "Model: \"sequential\"\n",
      "_________________________________________________________________\n",
      " Layer (type)                Output Shape              Param #   \n",
      "=================================================================\n",
      " conv2d (Conv2D)             (None, 126, 126, 32)      896       \n",
      "                                                                 \n",
      " max_pooling2d (MaxPooling2D  (None, 63, 63, 32)       0         \n",
      " )                                                               \n",
      "                                                                 \n",
      " conv2d_1 (Conv2D)           (None, 61, 61, 64)        18496     \n",
      "                                                                 \n",
      " flatten (Flatten)           (None, 238144)            0         \n",
      "                                                                 \n",
      " dense (Dense)               (None, 64)                15241280  \n",
      "                                                                 \n",
      " dense_1 (Dense)             (None, 1)                 65        \n",
      "                                                                 \n",
      "=================================================================\n",
      "Total params: 15,260,737\n",
      "Trainable params: 15,260,737\n",
      "Non-trainable params: 0\n",
      "_________________________________________________________________\n"
     ]
    },
    {
     "name": "stderr",
     "output_type": "stream",
     "text": [
      "2022-03-09 20:58:44.898664: I tensorflow/core/common_runtime/pluggable_device/pluggable_device_factory.cc:305] Could not identify NUMA node of platform GPU ID 0, defaulting to 0. Your kernel may not have been built with NUMA support.\n",
      "2022-03-09 20:58:44.898777: I tensorflow/core/common_runtime/pluggable_device/pluggable_device_factory.cc:271] Created TensorFlow device (/job:localhost/replica:0/task:0/device:GPU:0 with 0 MB memory) -> physical PluggableDevice (device: 0, name: METAL, pci bus id: <undefined>)\n"
     ]
    }
   ],
   "source": [
    "model = create_model()\n",
    "model.summary()"
   ]
  },
  {
   "cell_type": "code",
   "execution_count": 9,
   "metadata": {},
   "outputs": [
    {
     "name": "stdout",
     "output_type": "stream",
     "text": [
      "Malignant proportion in training set: 0.49633333333333335\n",
      "Malignant proportion in validation set: 0.468\n",
      "Malignant proportion in test set: 0.4925373134328358\n",
      "Found 3000 validated image filenames belonging to 2 classes.\n",
      "Found 500 validated image filenames belonging to 2 classes.\n",
      "Found 469 validated image filenames belonging to 2 classes.\n",
      "Epoch 1/200\n"
     ]
    },
    {
     "name": "stderr",
     "output_type": "stream",
     "text": [
      "2022-03-09 20:58:56.740202: I tensorflow/core/grappler/optimizers/custom_graph_optimizer_registry.cc:112] Plugin optimizer for device_type GPU is enabled.\n"
     ]
    },
    {
     "name": "stdout",
     "output_type": "stream",
     "text": [
      "94/94 [==============================] - ETA: 0s - loss: 0.9576 - accuracy: 0.6247 - auc: 0.6661"
     ]
    },
    {
     "name": "stderr",
     "output_type": "stream",
     "text": [
      "2022-03-09 20:59:18.663929: I tensorflow/core/grappler/optimizers/custom_graph_optimizer_registry.cc:112] Plugin optimizer for device_type GPU is enabled.\n"
     ]
    },
    {
     "name": "stdout",
     "output_type": "stream",
     "text": [
      "94/94 [==============================] - 25s 260ms/step - loss: 0.9576 - accuracy: 0.6247 - auc: 0.6661 - val_loss: 0.6905 - val_accuracy: 0.4880 - val_auc: 0.5244\n",
      "Epoch 2/200\n",
      "94/94 [==============================] - 24s 252ms/step - loss: 0.5865 - accuracy: 0.6873 - auc: 0.7156 - val_loss: 0.6046 - val_accuracy: 0.6620 - val_auc: 0.6905\n",
      "Epoch 3/200\n",
      "94/94 [==============================] - 24s 252ms/step - loss: 0.5637 - accuracy: 0.7080 - auc: 0.7284 - val_loss: 0.6152 - val_accuracy: 0.6420 - val_auc: 0.6747\n",
      "Epoch 4/200\n",
      "94/94 [==============================] - 24s 252ms/step - loss: 0.5484 - accuracy: 0.7123 - auc: 0.7296 - val_loss: 0.5906 - val_accuracy: 0.6600 - val_auc: 0.6911\n",
      "Epoch 5/200\n",
      "94/94 [==============================] - 24s 252ms/step - loss: 0.5551 - accuracy: 0.7080 - auc: 0.7227 - val_loss: 0.6039 - val_accuracy: 0.6580 - val_auc: 0.6849\n",
      "Epoch 6/200\n",
      "94/94 [==============================] - 24s 252ms/step - loss: 0.5443 - accuracy: 0.7147 - auc: 0.7313 - val_loss: 0.6455 - val_accuracy: 0.5880 - val_auc: 0.6525\n",
      "Epoch 7/200\n",
      "94/94 [==============================] - 24s 253ms/step - loss: 0.5427 - accuracy: 0.7103 - auc: 0.7328 - val_loss: 0.6809 - val_accuracy: 0.5340 - val_auc: 0.6012\n",
      "Epoch 8/200\n",
      "94/94 [==============================] - 24s 253ms/step - loss: 0.5480 - accuracy: 0.7113 - auc: 0.7221 - val_loss: 0.6783 - val_accuracy: 0.5740 - val_auc: 0.6431\n",
      "Epoch 9/200\n",
      "94/94 [==============================] - 24s 254ms/step - loss: 0.5492 - accuracy: 0.7063 - auc: 0.7054 - val_loss: 0.6193 - val_accuracy: 0.6940 - val_auc: 0.7143\n",
      "Epoch 10/200\n",
      "94/94 [==============================] - 24s 254ms/step - loss: 0.5582 - accuracy: 0.7010 - auc: 0.7213 - val_loss: 0.6771 - val_accuracy: 0.5400 - val_auc: 0.6276\n",
      "Epoch 11/200\n",
      "94/94 [==============================] - 24s 255ms/step - loss: 0.5426 - accuracy: 0.7127 - auc: 0.7347 - val_loss: 0.6721 - val_accuracy: 0.5580 - val_auc: 0.6034\n",
      "Epoch 12/200\n",
      "94/94 [==============================] - 24s 254ms/step - loss: 0.5328 - accuracy: 0.7183 - auc: 0.7496 - val_loss: 0.6876 - val_accuracy: 0.5280 - val_auc: 0.6241\n",
      "Epoch 13/200\n",
      "94/94 [==============================] - 24s 252ms/step - loss: 0.5318 - accuracy: 0.7277 - auc: 0.7708 - val_loss: 0.6687 - val_accuracy: 0.5580 - val_auc: 0.6446\n",
      "Epoch 14/200\n",
      "94/94 [==============================] - 24s 252ms/step - loss: 0.5186 - accuracy: 0.7320 - auc: 0.7743 - val_loss: 0.7337 - val_accuracy: 0.5000 - val_auc: 0.5712\n",
      "Epoch 15/200\n",
      "94/94 [==============================] - 24s 252ms/step - loss: 0.5289 - accuracy: 0.7223 - auc: 0.7407 - val_loss: 0.6818 - val_accuracy: 0.5500 - val_auc: 0.6912\n",
      "Epoch 16/200\n",
      "94/94 [==============================] - 24s 252ms/step - loss: 0.5193 - accuracy: 0.7313 - auc: 0.7743 - val_loss: 0.6127 - val_accuracy: 0.6360 - val_auc: 0.7411\n",
      "Epoch 17/200\n",
      "94/94 [==============================] - 24s 252ms/step - loss: 0.5136 - accuracy: 0.7293 - auc: 0.7931 - val_loss: 0.6582 - val_accuracy: 0.5800 - val_auc: 0.7145\n",
      "Epoch 18/200\n",
      "94/94 [==============================] - 24s 252ms/step - loss: 0.5151 - accuracy: 0.7330 - auc: 0.7971 - val_loss: 0.6291 - val_accuracy: 0.6700 - val_auc: 0.6840\n",
      "Epoch 19/200\n",
      "94/94 [==============================] - 24s 252ms/step - loss: 0.5138 - accuracy: 0.7340 - auc: 0.7843 - val_loss: 0.6828 - val_accuracy: 0.5460 - val_auc: 0.6997\n",
      "Epoch 20/200\n",
      "94/94 [==============================] - 24s 253ms/step - loss: 0.5087 - accuracy: 0.7317 - auc: 0.7943 - val_loss: 0.6184 - val_accuracy: 0.6460 - val_auc: 0.7466\n",
      "Epoch 21/200\n",
      "94/94 [==============================] - 24s 252ms/step - loss: 0.5040 - accuracy: 0.7340 - auc: 0.7909 - val_loss: 0.6491 - val_accuracy: 0.5900 - val_auc: 0.6253\n",
      "Epoch 22/200\n",
      "94/94 [==============================] - 24s 253ms/step - loss: 0.5067 - accuracy: 0.7370 - auc: 0.8025 - val_loss: 0.7092 - val_accuracy: 0.5300 - val_auc: 0.6021\n",
      "Epoch 23/200\n",
      "94/94 [==============================] - 24s 253ms/step - loss: 0.5045 - accuracy: 0.7367 - auc: 0.7974 - val_loss: 0.6260 - val_accuracy: 0.6380 - val_auc: 0.7167\n",
      "Epoch 24/200\n",
      "94/94 [==============================] - 24s 253ms/step - loss: 0.4999 - accuracy: 0.7393 - auc: 0.8058 - val_loss: 0.6861 - val_accuracy: 0.5540 - val_auc: 0.6303\n",
      "Epoch 25/200\n",
      "94/94 [==============================] - 24s 253ms/step - loss: 0.4962 - accuracy: 0.7417 - auc: 0.8088 - val_loss: 0.6531 - val_accuracy: 0.6040 - val_auc: 0.6763\n",
      "Epoch 26/200\n",
      "94/94 [==============================] - 24s 252ms/step - loss: 0.5000 - accuracy: 0.7367 - auc: 0.8021 - val_loss: 0.6264 - val_accuracy: 0.6400 - val_auc: 0.7508\n",
      "Epoch 27/200\n",
      "94/94 [==============================] - 24s 251ms/step - loss: 0.4954 - accuracy: 0.7390 - auc: 0.8051 - val_loss: 0.6447 - val_accuracy: 0.6100 - val_auc: 0.7256\n",
      "Epoch 28/200\n",
      "94/94 [==============================] - 24s 250ms/step - loss: 0.4991 - accuracy: 0.7433 - auc: 0.8096 - val_loss: 0.7165 - val_accuracy: 0.5300 - val_auc: 0.6764\n",
      "Epoch 29/200\n",
      "94/94 [==============================] - 24s 250ms/step - loss: 0.4977 - accuracy: 0.7313 - auc: 0.8123 - val_loss: 0.6566 - val_accuracy: 0.6060 - val_auc: 0.7252\n",
      "Epoch 30/200\n",
      "94/94 [==============================] - 24s 251ms/step - loss: 0.4904 - accuracy: 0.7423 - auc: 0.8107 - val_loss: 0.6620 - val_accuracy: 0.6000 - val_auc: 0.7187\n",
      "Epoch 31/200\n",
      "94/94 [==============================] - 24s 250ms/step - loss: 0.4836 - accuracy: 0.7477 - auc: 0.8211 - val_loss: 0.6286 - val_accuracy: 0.6280 - val_auc: 0.7183\n",
      "Epoch 32/200\n",
      "94/94 [==============================] - 24s 251ms/step - loss: 0.4899 - accuracy: 0.7513 - auc: 0.8213 - val_loss: 0.6234 - val_accuracy: 0.6500 - val_auc: 0.7657\n",
      "Epoch 33/200\n",
      "94/94 [==============================] - 24s 251ms/step - loss: 0.4865 - accuracy: 0.7513 - auc: 0.8244 - val_loss: 0.6502 - val_accuracy: 0.6160 - val_auc: 0.7184\n",
      "Epoch 34/200\n",
      "94/94 [==============================] - 24s 251ms/step - loss: 0.4939 - accuracy: 0.7390 - auc: 0.8144 - val_loss: 0.6370 - val_accuracy: 0.6260 - val_auc: 0.7525\n",
      "Epoch 35/200\n",
      "94/94 [==============================] - 24s 251ms/step - loss: 0.4803 - accuracy: 0.7563 - auc: 0.8269 - val_loss: 0.6232 - val_accuracy: 0.6340 - val_auc: 0.7636\n",
      "Epoch 36/200\n",
      "94/94 [==============================] - 24s 251ms/step - loss: 0.4869 - accuracy: 0.7520 - auc: 0.8218 - val_loss: 0.6750 - val_accuracy: 0.5780 - val_auc: 0.6955\n",
      "Epoch 37/200\n",
      "94/94 [==============================] - 24s 251ms/step - loss: 0.4964 - accuracy: 0.7430 - auc: 0.8129 - val_loss: 0.6810 - val_accuracy: 0.6100 - val_auc: 0.7390\n",
      "Epoch 38/200\n",
      "94/94 [==============================] - 24s 251ms/step - loss: 0.4944 - accuracy: 0.7420 - auc: 0.8172 - val_loss: 0.6698 - val_accuracy: 0.6080 - val_auc: 0.7147\n",
      "Epoch 39/200\n",
      "94/94 [==============================] - 24s 250ms/step - loss: 0.4800 - accuracy: 0.7587 - auc: 0.8242 - val_loss: 0.6524 - val_accuracy: 0.6060 - val_auc: 0.7008\n",
      "Epoch 40/200\n",
      "94/94 [==============================] - 24s 251ms/step - loss: 0.4858 - accuracy: 0.7463 - auc: 0.8206 - val_loss: 0.5866 - val_accuracy: 0.6500 - val_auc: 0.7914\n",
      "Epoch 41/200\n",
      "94/94 [==============================] - 24s 251ms/step - loss: 0.4876 - accuracy: 0.7527 - auc: 0.8150 - val_loss: 0.6876 - val_accuracy: 0.5780 - val_auc: 0.6428\n",
      "Epoch 42/200\n",
      "94/94 [==============================] - 24s 252ms/step - loss: 0.4755 - accuracy: 0.7540 - auc: 0.8283 - val_loss: 0.6487 - val_accuracy: 0.6060 - val_auc: 0.7521\n",
      "Epoch 43/200\n",
      "94/94 [==============================] - 24s 251ms/step - loss: 0.4750 - accuracy: 0.7513 - auc: 0.8213 - val_loss: 0.7157 - val_accuracy: 0.5500 - val_auc: 0.6482\n",
      "Epoch 44/200\n",
      "94/94 [==============================] - 24s 251ms/step - loss: 0.4773 - accuracy: 0.7517 - auc: 0.8251 - val_loss: 0.6134 - val_accuracy: 0.6340 - val_auc: 0.7869\n",
      "Epoch 45/200\n",
      "94/94 [==============================] - 24s 251ms/step - loss: 0.4788 - accuracy: 0.7543 - auc: 0.8288 - val_loss: 0.6782 - val_accuracy: 0.5780 - val_auc: 0.6921\n",
      "Epoch 46/200\n",
      "94/94 [==============================] - 24s 250ms/step - loss: 0.4785 - accuracy: 0.7550 - auc: 0.8278 - val_loss: 0.5936 - val_accuracy: 0.6700 - val_auc: 0.7538\n",
      "Epoch 47/200\n",
      "94/94 [==============================] - 24s 251ms/step - loss: 0.4902 - accuracy: 0.7407 - auc: 0.8116 - val_loss: 0.6347 - val_accuracy: 0.6220 - val_auc: 0.7091\n",
      "Epoch 48/200\n",
      "94/94 [==============================] - 24s 251ms/step - loss: 0.4776 - accuracy: 0.7597 - auc: 0.8300 - val_loss: 0.6683 - val_accuracy: 0.6140 - val_auc: 0.6475\n",
      "Epoch 49/200\n",
      "94/94 [==============================] - 24s 251ms/step - loss: 0.4764 - accuracy: 0.7530 - auc: 0.8276 - val_loss: 0.5745 - val_accuracy: 0.6720 - val_auc: 0.7782\n",
      "Epoch 50/200\n",
      "94/94 [==============================] - 24s 251ms/step - loss: 0.4730 - accuracy: 0.7567 - auc: 0.8306 - val_loss: 0.5670 - val_accuracy: 0.6860 - val_auc: 0.7761\n",
      "Epoch 51/200\n",
      "94/94 [==============================] - 24s 251ms/step - loss: 0.4688 - accuracy: 0.7657 - auc: 0.8372 - val_loss: 0.6416 - val_accuracy: 0.6160 - val_auc: 0.7704\n",
      "Epoch 52/200\n",
      "94/94 [==============================] - 24s 251ms/step - loss: 0.4775 - accuracy: 0.7600 - auc: 0.8336 - val_loss: 0.5828 - val_accuracy: 0.6620 - val_auc: 0.7986\n",
      "Epoch 53/200\n",
      "94/94 [==============================] - 24s 252ms/step - loss: 0.4675 - accuracy: 0.7610 - auc: 0.8378 - val_loss: 0.6581 - val_accuracy: 0.6080 - val_auc: 0.7431\n",
      "Epoch 54/200\n",
      "94/94 [==============================] - 24s 252ms/step - loss: 0.4715 - accuracy: 0.7623 - auc: 0.8353 - val_loss: 0.6978 - val_accuracy: 0.5980 - val_auc: 0.6309\n",
      "Epoch 55/200\n",
      "94/94 [==============================] - 24s 252ms/step - loss: 0.4686 - accuracy: 0.7557 - auc: 0.8367 - val_loss: 0.5568 - val_accuracy: 0.6820 - val_auc: 0.8131\n",
      "Epoch 56/200\n",
      "94/94 [==============================] - 24s 252ms/step - loss: 0.4728 - accuracy: 0.7630 - auc: 0.8360 - val_loss: 0.5761 - val_accuracy: 0.6760 - val_auc: 0.8010\n",
      "Epoch 57/200\n",
      "94/94 [==============================] - 24s 252ms/step - loss: 0.4767 - accuracy: 0.7590 - auc: 0.8336 - val_loss: 0.6769 - val_accuracy: 0.5860 - val_auc: 0.7219\n",
      "Epoch 58/200\n",
      "94/94 [==============================] - 24s 252ms/step - loss: 0.4587 - accuracy: 0.7650 - auc: 0.8411 - val_loss: 0.7052 - val_accuracy: 0.5780 - val_auc: 0.6323\n",
      "Epoch 59/200\n",
      "94/94 [==============================] - 24s 252ms/step - loss: 0.4614 - accuracy: 0.7627 - auc: 0.8439 - val_loss: 0.7135 - val_accuracy: 0.5880 - val_auc: 0.7038\n",
      "Epoch 60/200\n",
      "94/94 [==============================] - 24s 253ms/step - loss: 0.4557 - accuracy: 0.7683 - auc: 0.8484 - val_loss: 0.6733 - val_accuracy: 0.5980 - val_auc: 0.7332\n",
      "Epoch 61/200\n",
      "94/94 [==============================] - 24s 252ms/step - loss: 0.4710 - accuracy: 0.7610 - auc: 0.8382 - val_loss: 0.6454 - val_accuracy: 0.6120 - val_auc: 0.7139\n",
      "Epoch 62/200\n",
      "94/94 [==============================] - 24s 251ms/step - loss: 0.4635 - accuracy: 0.7630 - auc: 0.8432 - val_loss: 0.6221 - val_accuracy: 0.6460 - val_auc: 0.7836\n",
      "Epoch 63/200\n",
      "94/94 [==============================] - 24s 251ms/step - loss: 0.4531 - accuracy: 0.7673 - auc: 0.8480 - val_loss: 0.6067 - val_accuracy: 0.6580 - val_auc: 0.7827\n",
      "Epoch 64/200\n",
      "94/94 [==============================] - 24s 251ms/step - loss: 0.4535 - accuracy: 0.7647 - auc: 0.8492 - val_loss: 0.5897 - val_accuracy: 0.6800 - val_auc: 0.7931\n",
      "Epoch 65/200\n",
      "94/94 [==============================] - 24s 251ms/step - loss: 0.4520 - accuracy: 0.7650 - auc: 0.8505 - val_loss: 0.5616 - val_accuracy: 0.6760 - val_auc: 0.8194\n",
      "Epoch 66/200\n",
      "94/94 [==============================] - 24s 251ms/step - loss: 0.4518 - accuracy: 0.7667 - auc: 0.8537 - val_loss: 0.5862 - val_accuracy: 0.6560 - val_auc: 0.7708\n",
      "Epoch 67/200\n",
      "94/94 [==============================] - 24s 251ms/step - loss: 0.4462 - accuracy: 0.7743 - auc: 0.8578 - val_loss: 0.6129 - val_accuracy: 0.6520 - val_auc: 0.7704\n",
      "Epoch 68/200\n",
      "94/94 [==============================] - 24s 251ms/step - loss: 0.4425 - accuracy: 0.7767 - auc: 0.8574 - val_loss: 0.6413 - val_accuracy: 0.6360 - val_auc: 0.7977\n",
      "Epoch 69/200\n",
      "94/94 [==============================] - 24s 251ms/step - loss: 0.4471 - accuracy: 0.7693 - auc: 0.8585 - val_loss: 0.6248 - val_accuracy: 0.6360 - val_auc: 0.7837\n",
      "Epoch 70/200\n",
      "94/94 [==============================] - 24s 251ms/step - loss: 0.4469 - accuracy: 0.7777 - auc: 0.8593 - val_loss: 0.6413 - val_accuracy: 0.6200 - val_auc: 0.7560\n",
      "Epoch 71/200\n",
      "94/94 [==============================] - 24s 251ms/step - loss: 0.4550 - accuracy: 0.7733 - auc: 0.8521 - val_loss: 0.6240 - val_accuracy: 0.6360 - val_auc: 0.7702\n",
      "Epoch 72/200\n",
      "94/94 [==============================] - 24s 251ms/step - loss: 0.4577 - accuracy: 0.7650 - auc: 0.8478 - val_loss: 0.6069 - val_accuracy: 0.6320 - val_auc: 0.7857\n",
      "Epoch 73/200\n",
      "94/94 [==============================] - 24s 251ms/step - loss: 0.4354 - accuracy: 0.7803 - auc: 0.8635 - val_loss: 0.5677 - val_accuracy: 0.6720 - val_auc: 0.8170\n",
      "Epoch 74/200\n",
      "94/94 [==============================] - 24s 251ms/step - loss: 0.4366 - accuracy: 0.7827 - auc: 0.8642 - val_loss: 0.5895 - val_accuracy: 0.6640 - val_auc: 0.8200\n",
      "Epoch 75/200\n",
      "94/94 [==============================] - 24s 251ms/step - loss: 0.4355 - accuracy: 0.7817 - auc: 0.8654 - val_loss: 0.6005 - val_accuracy: 0.6600 - val_auc: 0.7642\n",
      "Epoch 76/200\n",
      "94/94 [==============================] - 24s 251ms/step - loss: 0.4413 - accuracy: 0.7707 - auc: 0.8601 - val_loss: 0.6001 - val_accuracy: 0.6420 - val_auc: 0.7891\n",
      "Epoch 77/200\n",
      "94/94 [==============================] - 24s 251ms/step - loss: 0.4371 - accuracy: 0.7770 - auc: 0.8595 - val_loss: 0.6424 - val_accuracy: 0.6120 - val_auc: 0.7855\n",
      "Epoch 78/200\n",
      "94/94 [==============================] - 24s 251ms/step - loss: 0.4443 - accuracy: 0.7693 - auc: 0.8591 - val_loss: 0.5721 - val_accuracy: 0.6640 - val_auc: 0.8099\n",
      "Epoch 79/200\n",
      "94/94 [==============================] - 24s 251ms/step - loss: 0.4328 - accuracy: 0.7813 - auc: 0.8664 - val_loss: 0.6210 - val_accuracy: 0.6220 - val_auc: 0.7890\n",
      "Epoch 80/200\n",
      "94/94 [==============================] - 24s 251ms/step - loss: 0.4394 - accuracy: 0.7810 - auc: 0.8629 - val_loss: 0.6178 - val_accuracy: 0.6400 - val_auc: 0.7356\n",
      "Epoch 81/200\n",
      "94/94 [==============================] - 24s 251ms/step - loss: 0.4295 - accuracy: 0.7777 - auc: 0.8681 - val_loss: 0.5749 - val_accuracy: 0.6820 - val_auc: 0.8057\n",
      "Epoch 82/200\n",
      "94/94 [==============================] - 24s 251ms/step - loss: 0.4258 - accuracy: 0.7877 - auc: 0.8700 - val_loss: 0.6605 - val_accuracy: 0.6140 - val_auc: 0.7259\n",
      "Epoch 83/200\n",
      "94/94 [==============================] - 24s 251ms/step - loss: 0.4304 - accuracy: 0.7837 - auc: 0.8684 - val_loss: 0.5932 - val_accuracy: 0.6600 - val_auc: 0.8066\n",
      "Epoch 84/200\n",
      "94/94 [==============================] - 24s 251ms/step - loss: 0.4282 - accuracy: 0.7793 - auc: 0.8702 - val_loss: 0.5752 - val_accuracy: 0.6760 - val_auc: 0.7927\n",
      "Epoch 85/200\n",
      "94/94 [==============================] - 24s 251ms/step - loss: 0.4306 - accuracy: 0.7873 - auc: 0.8701 - val_loss: 0.5908 - val_accuracy: 0.6620 - val_auc: 0.8076\n",
      "Epoch 86/200\n",
      "94/94 [==============================] - 24s 252ms/step - loss: 0.4321 - accuracy: 0.7867 - auc: 0.8674 - val_loss: 0.6432 - val_accuracy: 0.6460 - val_auc: 0.7454\n",
      "Epoch 87/200\n",
      "94/94 [==============================] - 24s 251ms/step - loss: 0.4345 - accuracy: 0.7793 - auc: 0.8677 - val_loss: 0.5927 - val_accuracy: 0.6700 - val_auc: 0.7859\n",
      "Epoch 88/200\n",
      "94/94 [==============================] - 24s 251ms/step - loss: 0.4351 - accuracy: 0.7807 - auc: 0.8646 - val_loss: 0.6611 - val_accuracy: 0.6200 - val_auc: 0.7525\n",
      "Epoch 89/200\n",
      "94/94 [==============================] - 24s 251ms/step - loss: 0.4287 - accuracy: 0.7797 - auc: 0.8698 - val_loss: 0.6685 - val_accuracy: 0.6120 - val_auc: 0.7346\n",
      "Epoch 90/200\n",
      "94/94 [==============================] - 24s 251ms/step - loss: 0.4341 - accuracy: 0.7840 - auc: 0.8708 - val_loss: 0.5673 - val_accuracy: 0.6920 - val_auc: 0.8087\n",
      "Epoch 91/200\n",
      "94/94 [==============================] - 24s 251ms/step - loss: 0.4348 - accuracy: 0.7840 - auc: 0.8659 - val_loss: 0.7450 - val_accuracy: 0.5520 - val_auc: 0.6698\n",
      "Epoch 92/200\n",
      "94/94 [==============================] - 24s 250ms/step - loss: 0.4291 - accuracy: 0.7883 - auc: 0.8677 - val_loss: 0.6964 - val_accuracy: 0.5960 - val_auc: 0.6667\n",
      "Epoch 93/200\n",
      "94/94 [==============================] - 24s 250ms/step - loss: 0.4245 - accuracy: 0.7830 - auc: 0.8706 - val_loss: 0.6083 - val_accuracy: 0.6580 - val_auc: 0.7767\n",
      "Epoch 94/200\n",
      "94/94 [==============================] - 24s 250ms/step - loss: 0.4241 - accuracy: 0.7893 - auc: 0.8747 - val_loss: 0.5413 - val_accuracy: 0.7060 - val_auc: 0.8256\n",
      "Epoch 95/200\n",
      "94/94 [==============================] - 24s 250ms/step - loss: 0.4386 - accuracy: 0.7787 - auc: 0.8612 - val_loss: 0.5967 - val_accuracy: 0.6540 - val_auc: 0.7880\n",
      "Epoch 96/200\n",
      "94/94 [==============================] - 24s 250ms/step - loss: 0.4193 - accuracy: 0.7910 - auc: 0.8778 - val_loss: 0.5952 - val_accuracy: 0.6840 - val_auc: 0.7928\n",
      "Epoch 97/200\n",
      "94/94 [==============================] - 24s 250ms/step - loss: 0.4441 - accuracy: 0.7763 - auc: 0.8609 - val_loss: 0.5411 - val_accuracy: 0.7140 - val_auc: 0.8197\n",
      "Epoch 98/200\n",
      "94/94 [==============================] - 24s 251ms/step - loss: 0.4211 - accuracy: 0.7977 - auc: 0.8785 - val_loss: 0.6487 - val_accuracy: 0.6320 - val_auc: 0.7424\n",
      "Epoch 99/200\n",
      "94/94 [==============================] - 24s 251ms/step - loss: 0.4194 - accuracy: 0.7893 - auc: 0.8765 - val_loss: 0.5930 - val_accuracy: 0.6680 - val_auc: 0.8132\n",
      "Epoch 100/200\n",
      "94/94 [==============================] - 24s 250ms/step - loss: 0.4221 - accuracy: 0.7827 - auc: 0.8712 - val_loss: 0.6743 - val_accuracy: 0.6160 - val_auc: 0.7165\n",
      "Epoch 101/200\n",
      "94/94 [==============================] - 24s 250ms/step - loss: 0.4359 - accuracy: 0.7773 - auc: 0.8659 - val_loss: 0.6318 - val_accuracy: 0.6240 - val_auc: 0.7348\n",
      "Epoch 102/200\n",
      "94/94 [==============================] - 24s 251ms/step - loss: 0.4222 - accuracy: 0.7810 - auc: 0.8747 - val_loss: 0.5926 - val_accuracy: 0.6680 - val_auc: 0.7903\n",
      "Epoch 103/200\n",
      "94/94 [==============================] - 24s 250ms/step - loss: 0.4135 - accuracy: 0.7950 - auc: 0.8794 - val_loss: 0.6011 - val_accuracy: 0.6460 - val_auc: 0.8118\n",
      "Epoch 104/200\n",
      "94/94 [==============================] - 24s 250ms/step - loss: 0.4088 - accuracy: 0.7957 - auc: 0.8813 - val_loss: 0.6615 - val_accuracy: 0.6200 - val_auc: 0.7882\n",
      "Epoch 105/200\n",
      "94/94 [==============================] - 24s 251ms/step - loss: 0.4227 - accuracy: 0.7937 - auc: 0.8736 - val_loss: 0.6312 - val_accuracy: 0.6600 - val_auc: 0.7803\n",
      "Epoch 106/200\n",
      "94/94 [==============================] - 24s 251ms/step - loss: 0.4222 - accuracy: 0.7910 - auc: 0.8730 - val_loss: 0.5763 - val_accuracy: 0.6740 - val_auc: 0.8338\n",
      "Epoch 107/200\n",
      "94/94 [==============================] - 24s 250ms/step - loss: 0.4261 - accuracy: 0.7840 - auc: 0.8721 - val_loss: 0.5666 - val_accuracy: 0.6820 - val_auc: 0.8162\n",
      "Epoch 108/200\n",
      "94/94 [==============================] - 24s 251ms/step - loss: 0.4249 - accuracy: 0.7893 - auc: 0.8753 - val_loss: 0.6540 - val_accuracy: 0.6200 - val_auc: 0.7687\n",
      "Epoch 109/200\n",
      "94/94 [==============================] - 24s 250ms/step - loss: 0.4155 - accuracy: 0.7973 - auc: 0.8798 - val_loss: 0.6175 - val_accuracy: 0.6560 - val_auc: 0.7783\n",
      "Epoch 110/200\n",
      "94/94 [==============================] - 24s 250ms/step - loss: 0.4235 - accuracy: 0.7910 - auc: 0.8756 - val_loss: 0.5652 - val_accuracy: 0.6880 - val_auc: 0.7987\n",
      "Epoch 111/200\n",
      "94/94 [==============================] - 24s 251ms/step - loss: 0.4090 - accuracy: 0.7990 - auc: 0.8833 - val_loss: 0.6460 - val_accuracy: 0.6260 - val_auc: 0.7693\n",
      "Epoch 112/200\n",
      "94/94 [==============================] - 24s 250ms/step - loss: 0.4118 - accuracy: 0.8047 - auc: 0.8821 - val_loss: 0.6436 - val_accuracy: 0.6380 - val_auc: 0.7869\n",
      "Epoch 113/200\n",
      "94/94 [==============================] - 24s 250ms/step - loss: 0.4192 - accuracy: 0.7940 - auc: 0.8772 - val_loss: 0.6071 - val_accuracy: 0.6840 - val_auc: 0.7771\n",
      "Epoch 114/200\n",
      "94/94 [==============================] - 24s 250ms/step - loss: 0.4168 - accuracy: 0.7900 - auc: 0.8791 - val_loss: 0.5469 - val_accuracy: 0.7100 - val_auc: 0.8298\n",
      "Epoch 115/200\n",
      "94/94 [==============================] - 24s 250ms/step - loss: 0.3998 - accuracy: 0.8077 - auc: 0.8869 - val_loss: 0.5917 - val_accuracy: 0.6740 - val_auc: 0.8030\n",
      "Epoch 116/200\n",
      "94/94 [==============================] - 24s 250ms/step - loss: 0.4076 - accuracy: 0.7983 - auc: 0.8840 - val_loss: 0.5723 - val_accuracy: 0.6900 - val_auc: 0.8309\n",
      "Epoch 117/200\n",
      "94/94 [==============================] - 24s 250ms/step - loss: 0.4141 - accuracy: 0.7927 - auc: 0.8787 - val_loss: 0.5743 - val_accuracy: 0.6700 - val_auc: 0.8193\n",
      "Epoch 118/200\n",
      "94/94 [==============================] - 24s 250ms/step - loss: 0.4076 - accuracy: 0.8007 - auc: 0.8854 - val_loss: 0.6312 - val_accuracy: 0.6640 - val_auc: 0.7699\n",
      "Epoch 119/200\n",
      "94/94 [==============================] - 24s 250ms/step - loss: 0.4000 - accuracy: 0.8043 - auc: 0.8880 - val_loss: 0.5495 - val_accuracy: 0.6960 - val_auc: 0.8282\n",
      "Epoch 120/200\n",
      "94/94 [==============================] - 24s 250ms/step - loss: 0.4101 - accuracy: 0.7947 - auc: 0.8827 - val_loss: 0.5790 - val_accuracy: 0.6760 - val_auc: 0.8166\n",
      "Epoch 121/200\n",
      "94/94 [==============================] - 24s 251ms/step - loss: 0.4056 - accuracy: 0.8003 - auc: 0.8848 - val_loss: 0.6317 - val_accuracy: 0.6480 - val_auc: 0.8128\n",
      "Epoch 122/200\n",
      "94/94 [==============================] - 24s 251ms/step - loss: 0.4007 - accuracy: 0.8013 - auc: 0.8847 - val_loss: 0.5982 - val_accuracy: 0.6660 - val_auc: 0.8146\n",
      "Epoch 123/200\n",
      "94/94 [==============================] - 24s 251ms/step - loss: 0.4199 - accuracy: 0.7957 - auc: 0.8764 - val_loss: 0.6939 - val_accuracy: 0.5940 - val_auc: 0.6990\n",
      "Epoch 124/200\n",
      "94/94 [==============================] - 24s 250ms/step - loss: 0.4087 - accuracy: 0.7947 - auc: 0.8835 - val_loss: 0.5786 - val_accuracy: 0.6720 - val_auc: 0.8196\n",
      "Epoch 125/200\n",
      "94/94 [==============================] - 24s 250ms/step - loss: 0.4068 - accuracy: 0.8027 - auc: 0.8832 - val_loss: 0.5850 - val_accuracy: 0.6760 - val_auc: 0.8215\n",
      "Epoch 126/200\n",
      "94/94 [==============================] - 24s 250ms/step - loss: 0.4051 - accuracy: 0.7993 - auc: 0.8823 - val_loss: 0.6395 - val_accuracy: 0.6420 - val_auc: 0.7576\n",
      "Epoch 127/200\n",
      "94/94 [==============================] - 24s 251ms/step - loss: 0.4087 - accuracy: 0.7950 - auc: 0.8838 - val_loss: 0.5438 - val_accuracy: 0.7220 - val_auc: 0.8138\n",
      "Epoch 128/200\n",
      "94/94 [==============================] - 24s 250ms/step - loss: 0.4014 - accuracy: 0.8000 - auc: 0.8856 - val_loss: 0.6528 - val_accuracy: 0.6220 - val_auc: 0.7300\n",
      "Epoch 129/200\n",
      "94/94 [==============================] - 24s 251ms/step - loss: 0.4006 - accuracy: 0.7897 - auc: 0.8846 - val_loss: 0.6176 - val_accuracy: 0.6640 - val_auc: 0.7772\n",
      "Epoch 130/200\n",
      "94/94 [==============================] - 24s 251ms/step - loss: 0.4028 - accuracy: 0.7960 - auc: 0.8861 - val_loss: 0.5746 - val_accuracy: 0.6840 - val_auc: 0.8071\n",
      "Epoch 131/200\n",
      "94/94 [==============================] - 24s 251ms/step - loss: 0.3958 - accuracy: 0.8063 - auc: 0.8900 - val_loss: 0.5752 - val_accuracy: 0.6700 - val_auc: 0.8295\n",
      "Epoch 132/200\n",
      "94/94 [==============================] - 24s 251ms/step - loss: 0.4003 - accuracy: 0.7990 - auc: 0.8875 - val_loss: 0.6853 - val_accuracy: 0.5980 - val_auc: 0.7216\n",
      "Epoch 133/200\n",
      "94/94 [==============================] - 24s 251ms/step - loss: 0.3987 - accuracy: 0.8073 - auc: 0.8883 - val_loss: 0.5694 - val_accuracy: 0.7140 - val_auc: 0.7903\n",
      "Epoch 134/200\n",
      "94/94 [==============================] - 24s 251ms/step - loss: 0.3930 - accuracy: 0.8130 - auc: 0.8911 - val_loss: 0.5640 - val_accuracy: 0.7080 - val_auc: 0.8018\n",
      "Epoch 135/200\n",
      "94/94 [==============================] - 24s 251ms/step - loss: 0.3993 - accuracy: 0.8047 - auc: 0.8910 - val_loss: 0.5534 - val_accuracy: 0.7020 - val_auc: 0.8066\n",
      "Epoch 136/200\n",
      "94/94 [==============================] - 24s 251ms/step - loss: 0.4028 - accuracy: 0.7983 - auc: 0.8859 - val_loss: 0.6405 - val_accuracy: 0.6400 - val_auc: 0.7962\n",
      "Epoch 137/200\n",
      "94/94 [==============================] - 24s 251ms/step - loss: 0.3990 - accuracy: 0.8053 - auc: 0.8879 - val_loss: 0.6078 - val_accuracy: 0.6680 - val_auc: 0.8129\n",
      "Epoch 138/200\n",
      "94/94 [==============================] - 24s 251ms/step - loss: 0.3935 - accuracy: 0.8023 - auc: 0.8908 - val_loss: 0.5796 - val_accuracy: 0.6820 - val_auc: 0.7939\n",
      "Epoch 139/200\n",
      "94/94 [==============================] - 24s 251ms/step - loss: 0.3992 - accuracy: 0.8023 - auc: 0.8879 - val_loss: 0.6219 - val_accuracy: 0.6600 - val_auc: 0.7700\n",
      "Epoch 140/200\n",
      "94/94 [==============================] - 24s 251ms/step - loss: 0.3845 - accuracy: 0.8110 - auc: 0.8968 - val_loss: 0.6054 - val_accuracy: 0.6700 - val_auc: 0.7582\n",
      "Epoch 141/200\n",
      "94/94 [==============================] - 24s 251ms/step - loss: 0.3924 - accuracy: 0.8073 - auc: 0.8929 - val_loss: 0.5725 - val_accuracy: 0.6920 - val_auc: 0.8071\n",
      "Epoch 142/200\n",
      "94/94 [==============================] - 24s 250ms/step - loss: 0.3792 - accuracy: 0.8110 - auc: 0.8993 - val_loss: 0.5730 - val_accuracy: 0.6800 - val_auc: 0.8279\n",
      "Epoch 143/200\n",
      "94/94 [==============================] - 24s 250ms/step - loss: 0.3853 - accuracy: 0.8113 - auc: 0.8958 - val_loss: 0.6702 - val_accuracy: 0.6420 - val_auc: 0.7482\n",
      "Epoch 144/200\n",
      "94/94 [==============================] - 24s 250ms/step - loss: 0.3866 - accuracy: 0.8117 - auc: 0.8956 - val_loss: 0.6487 - val_accuracy: 0.6400 - val_auc: 0.7548\n",
      "Epoch 145/200\n",
      "94/94 [==============================] - 24s 250ms/step - loss: 0.3930 - accuracy: 0.8117 - auc: 0.8944 - val_loss: 0.5944 - val_accuracy: 0.6840 - val_auc: 0.8048\n",
      "Epoch 146/200\n",
      "94/94 [==============================] - 24s 250ms/step - loss: 0.3852 - accuracy: 0.8110 - auc: 0.8972 - val_loss: 0.5824 - val_accuracy: 0.6780 - val_auc: 0.7835\n",
      "Epoch 147/200\n",
      "94/94 [==============================] - 24s 250ms/step - loss: 0.3872 - accuracy: 0.8133 - auc: 0.8972 - val_loss: 0.5365 - val_accuracy: 0.7200 - val_auc: 0.8095\n",
      "Epoch 148/200\n",
      "94/94 [==============================] - 24s 250ms/step - loss: 0.3898 - accuracy: 0.8073 - auc: 0.8942 - val_loss: 0.5768 - val_accuracy: 0.6720 - val_auc: 0.8107\n",
      "Epoch 149/200\n",
      "94/94 [==============================] - 24s 251ms/step - loss: 0.3735 - accuracy: 0.8230 - auc: 0.9037 - val_loss: 0.6174 - val_accuracy: 0.6700 - val_auc: 0.7934\n",
      "Epoch 150/200\n",
      "94/94 [==============================] - 24s 250ms/step - loss: 0.3893 - accuracy: 0.8127 - auc: 0.8961 - val_loss: 0.6173 - val_accuracy: 0.6800 - val_auc: 0.7987\n",
      "Epoch 151/200\n",
      "94/94 [==============================] - 24s 251ms/step - loss: 0.3886 - accuracy: 0.8120 - auc: 0.8958 - val_loss: 0.6571 - val_accuracy: 0.6400 - val_auc: 0.7420\n",
      "Epoch 152/200\n",
      "94/94 [==============================] - 24s 251ms/step - loss: 0.3902 - accuracy: 0.8187 - auc: 0.8931 - val_loss: 0.6675 - val_accuracy: 0.6480 - val_auc: 0.7347\n",
      "Epoch 153/200\n",
      "94/94 [==============================] - 24s 250ms/step - loss: 0.3803 - accuracy: 0.8097 - auc: 0.9016 - val_loss: 0.6437 - val_accuracy: 0.6440 - val_auc: 0.7662\n",
      "Epoch 154/200\n",
      "94/94 [==============================] - 24s 251ms/step - loss: 0.3916 - accuracy: 0.8057 - auc: 0.8944 - val_loss: 0.6012 - val_accuracy: 0.6900 - val_auc: 0.7907\n",
      "Epoch 155/200\n",
      "94/94 [==============================] - 24s 251ms/step - loss: 0.3939 - accuracy: 0.8083 - auc: 0.8925 - val_loss: 0.5813 - val_accuracy: 0.7020 - val_auc: 0.8358\n",
      "Epoch 156/200\n",
      "94/94 [==============================] - 24s 251ms/step - loss: 0.3885 - accuracy: 0.8130 - auc: 0.8955 - val_loss: 0.6405 - val_accuracy: 0.6480 - val_auc: 0.7739\n",
      "Epoch 157/200\n",
      "94/94 [==============================] - 24s 251ms/step - loss: 0.3746 - accuracy: 0.8167 - auc: 0.9027 - val_loss: 0.5194 - val_accuracy: 0.7400 - val_auc: 0.8323\n",
      "Epoch 158/200\n",
      "94/94 [==============================] - 24s 250ms/step - loss: 0.3851 - accuracy: 0.8207 - auc: 0.8983 - val_loss: 0.6262 - val_accuracy: 0.6560 - val_auc: 0.8100\n",
      "Epoch 159/200\n",
      "94/94 [==============================] - 24s 251ms/step - loss: 0.3855 - accuracy: 0.8163 - auc: 0.8991 - val_loss: 0.5813 - val_accuracy: 0.7020 - val_auc: 0.8048\n",
      "Epoch 160/200\n",
      "94/94 [==============================] - 24s 250ms/step - loss: 0.3954 - accuracy: 0.8093 - auc: 0.8932 - val_loss: 0.5663 - val_accuracy: 0.6980 - val_auc: 0.8320\n",
      "Epoch 161/200\n",
      "94/94 [==============================] - 24s 251ms/step - loss: 0.3800 - accuracy: 0.8160 - auc: 0.8993 - val_loss: 0.6298 - val_accuracy: 0.6440 - val_auc: 0.7976\n",
      "Epoch 162/200\n",
      "94/94 [==============================] - 24s 250ms/step - loss: 0.3838 - accuracy: 0.8123 - auc: 0.8998 - val_loss: 0.5805 - val_accuracy: 0.7080 - val_auc: 0.8013\n",
      "Epoch 163/200\n",
      "94/94 [==============================] - 24s 250ms/step - loss: 0.3823 - accuracy: 0.8167 - auc: 0.8999 - val_loss: 0.5584 - val_accuracy: 0.7120 - val_auc: 0.8106\n",
      "Epoch 164/200\n",
      "94/94 [==============================] - 24s 251ms/step - loss: 0.3827 - accuracy: 0.8080 - auc: 0.8979 - val_loss: 0.6000 - val_accuracy: 0.6900 - val_auc: 0.8176\n",
      "Epoch 165/200\n",
      "94/94 [==============================] - 24s 251ms/step - loss: 0.3747 - accuracy: 0.8187 - auc: 0.9015 - val_loss: 0.5655 - val_accuracy: 0.7100 - val_auc: 0.8049\n",
      "Epoch 166/200\n",
      "94/94 [==============================] - 24s 250ms/step - loss: 0.3790 - accuracy: 0.8183 - auc: 0.9037 - val_loss: 0.5917 - val_accuracy: 0.7080 - val_auc: 0.8086\n",
      "Epoch 167/200\n",
      "94/94 [==============================] - 24s 250ms/step - loss: 0.3843 - accuracy: 0.8157 - auc: 0.8990 - val_loss: 0.6570 - val_accuracy: 0.6380 - val_auc: 0.7723\n",
      "Epoch 168/200\n",
      "94/94 [==============================] - 24s 250ms/step - loss: 0.3708 - accuracy: 0.8197 - auc: 0.9068 - val_loss: 0.6486 - val_accuracy: 0.6680 - val_auc: 0.7577\n",
      "Epoch 169/200\n",
      "94/94 [==============================] - 24s 250ms/step - loss: 0.4020 - accuracy: 0.8090 - auc: 0.8941 - val_loss: 0.5693 - val_accuracy: 0.7140 - val_auc: 0.7913\n",
      "Epoch 170/200\n",
      "94/94 [==============================] - 24s 253ms/step - loss: 0.3916 - accuracy: 0.8063 - auc: 0.8964 - val_loss: 0.5938 - val_accuracy: 0.6940 - val_auc: 0.7956\n",
      "Epoch 171/200\n",
      "94/94 [==============================] - 24s 252ms/step - loss: 0.3790 - accuracy: 0.8117 - auc: 0.8997 - val_loss: 0.6102 - val_accuracy: 0.6900 - val_auc: 0.7963\n",
      "Epoch 172/200\n",
      "94/94 [==============================] - 24s 251ms/step - loss: 0.3842 - accuracy: 0.8117 - auc: 0.8981 - val_loss: 0.7319 - val_accuracy: 0.5800 - val_auc: 0.7484\n",
      "Epoch 173/200\n",
      "94/94 [==============================] - 24s 251ms/step - loss: 0.3783 - accuracy: 0.8183 - auc: 0.9022 - val_loss: 0.6855 - val_accuracy: 0.6260 - val_auc: 0.7039\n",
      "Epoch 174/200\n",
      "94/94 [==============================] - 24s 251ms/step - loss: 0.3743 - accuracy: 0.8177 - auc: 0.9033 - val_loss: 0.6349 - val_accuracy: 0.6420 - val_auc: 0.7361\n",
      "Epoch 175/200\n",
      "94/94 [==============================] - 24s 251ms/step - loss: 0.3674 - accuracy: 0.8217 - auc: 0.9068 - val_loss: 0.6545 - val_accuracy: 0.6480 - val_auc: 0.7260\n",
      "Epoch 176/200\n",
      "94/94 [==============================] - 24s 251ms/step - loss: 0.3753 - accuracy: 0.8243 - auc: 0.9024 - val_loss: 0.5973 - val_accuracy: 0.6940 - val_auc: 0.7719\n",
      "Epoch 177/200\n",
      "94/94 [==============================] - 24s 251ms/step - loss: 0.3742 - accuracy: 0.8203 - auc: 0.9032 - val_loss: 0.5471 - val_accuracy: 0.7200 - val_auc: 0.8125\n",
      "Epoch 178/200\n",
      "94/94 [==============================] - 24s 251ms/step - loss: 0.3878 - accuracy: 0.8063 - auc: 0.8936 - val_loss: 0.5327 - val_accuracy: 0.7160 - val_auc: 0.8157\n",
      "Epoch 179/200\n",
      "94/94 [==============================] - 24s 252ms/step - loss: 0.3636 - accuracy: 0.8243 - auc: 0.9093 - val_loss: 0.5815 - val_accuracy: 0.6860 - val_auc: 0.8019\n",
      "Epoch 180/200\n",
      "94/94 [==============================] - 24s 258ms/step - loss: 0.3731 - accuracy: 0.8207 - auc: 0.9055 - val_loss: 0.6478 - val_accuracy: 0.6380 - val_auc: 0.7510\n",
      "Epoch 181/200\n",
      "94/94 [==============================] - 24s 253ms/step - loss: 0.3917 - accuracy: 0.8090 - auc: 0.8942 - val_loss: 0.6387 - val_accuracy: 0.6540 - val_auc: 0.7648\n",
      "Epoch 182/200\n",
      "94/94 [==============================] - 24s 255ms/step - loss: 0.3695 - accuracy: 0.8267 - auc: 0.9077 - val_loss: 0.6886 - val_accuracy: 0.6760 - val_auc: 0.7755\n",
      "Epoch 183/200\n",
      "94/94 [==============================] - 24s 256ms/step - loss: 0.3728 - accuracy: 0.8183 - auc: 0.9046 - val_loss: 0.5696 - val_accuracy: 0.7080 - val_auc: 0.8172\n",
      "Epoch 184/200\n",
      "94/94 [==============================] - 24s 254ms/step - loss: 0.3672 - accuracy: 0.8217 - auc: 0.9065 - val_loss: 0.6076 - val_accuracy: 0.6920 - val_auc: 0.7877\n",
      "Epoch 185/200\n",
      "94/94 [==============================] - 24s 259ms/step - loss: 0.3683 - accuracy: 0.8260 - auc: 0.9062 - val_loss: 0.6056 - val_accuracy: 0.6920 - val_auc: 0.8078\n",
      "Epoch 186/200\n",
      "94/94 [==============================] - 24s 253ms/step - loss: 0.3637 - accuracy: 0.8237 - auc: 0.9107 - val_loss: 0.6515 - val_accuracy: 0.6520 - val_auc: 0.7604\n",
      "Epoch 187/200\n",
      "94/94 [==============================] - 24s 251ms/step - loss: 0.3536 - accuracy: 0.8280 - auc: 0.9148 - val_loss: 0.6218 - val_accuracy: 0.6840 - val_auc: 0.7813\n",
      "Epoch 188/200\n",
      "94/94 [==============================] - 24s 251ms/step - loss: 0.3725 - accuracy: 0.8303 - auc: 0.9078 - val_loss: 0.6270 - val_accuracy: 0.6880 - val_auc: 0.7771\n",
      "Epoch 189/200\n",
      "94/94 [==============================] - 24s 259ms/step - loss: 0.3578 - accuracy: 0.8233 - auc: 0.9129 - val_loss: 0.5857 - val_accuracy: 0.7020 - val_auc: 0.8103\n",
      "Epoch 190/200\n",
      "94/94 [==============================] - 24s 254ms/step - loss: 0.3632 - accuracy: 0.8287 - auc: 0.9110 - val_loss: 0.5651 - val_accuracy: 0.7240 - val_auc: 0.8236\n",
      "Epoch 191/200\n",
      "94/94 [==============================] - 24s 252ms/step - loss: 0.3617 - accuracy: 0.8360 - auc: 0.9119 - val_loss: 0.6527 - val_accuracy: 0.6680 - val_auc: 0.7959\n",
      "Epoch 192/200\n",
      "94/94 [==============================] - 24s 251ms/step - loss: 0.3619 - accuracy: 0.8280 - auc: 0.9115 - val_loss: 0.6045 - val_accuracy: 0.6920 - val_auc: 0.7942\n",
      "Epoch 193/200\n",
      "94/94 [==============================] - 24s 251ms/step - loss: 0.3614 - accuracy: 0.8240 - auc: 0.9111 - val_loss: 0.6514 - val_accuracy: 0.6500 - val_auc: 0.7498\n",
      "Epoch 194/200\n",
      "94/94 [==============================] - 24s 251ms/step - loss: 0.3609 - accuracy: 0.8243 - auc: 0.9126 - val_loss: 0.6369 - val_accuracy: 0.6680 - val_auc: 0.7799\n",
      "Epoch 195/200\n",
      "94/94 [==============================] - 24s 255ms/step - loss: 0.3628 - accuracy: 0.8270 - auc: 0.9097 - val_loss: 0.6338 - val_accuracy: 0.6580 - val_auc: 0.7548\n",
      "Epoch 196/200\n",
      "94/94 [==============================] - 25s 262ms/step - loss: 0.3620 - accuracy: 0.8260 - auc: 0.9117 - val_loss: 0.5709 - val_accuracy: 0.6880 - val_auc: 0.7912\n",
      "Epoch 197/200\n",
      "94/94 [==============================] - 24s 251ms/step - loss: 0.3564 - accuracy: 0.8337 - auc: 0.9136 - val_loss: 0.5961 - val_accuracy: 0.6840 - val_auc: 0.7865\n",
      "Epoch 198/200\n",
      "94/94 [==============================] - 24s 252ms/step - loss: 0.3614 - accuracy: 0.8220 - auc: 0.9113 - val_loss: 0.6452 - val_accuracy: 0.6460 - val_auc: 0.7323\n",
      "Epoch 199/200\n",
      "94/94 [==============================] - 24s 252ms/step - loss: 0.3618 - accuracy: 0.8253 - auc: 0.9106 - val_loss: 0.6066 - val_accuracy: 0.6960 - val_auc: 0.7995\n",
      "Epoch 200/200\n",
      "94/94 [==============================] - 24s 252ms/step - loss: 0.3485 - accuracy: 0.8350 - auc: 0.9155 - val_loss: 0.5777 - val_accuracy: 0.7180 - val_auc: 0.8193\n"
     ]
    }
   ],
   "source": [
    "model = create_model()\n",
    "training_data, validation_data, test_data = load_data()\n",
    "training_result = train_model(model, training_data, validation_data, epochs=200)"
   ]
  },
  {
   "cell_type": "code",
   "execution_count": 7,
   "metadata": {},
   "outputs": [
    {
     "ename": "NameError",
     "evalue": "name 'model' is not defined",
     "output_type": "error",
     "traceback": [
      "\u001b[0;31m---------------------------------------------------------------------------\u001b[0m",
      "\u001b[0;31mNameError\u001b[0m                                 Traceback (most recent call last)",
      "\u001b[1;32m/Users/johannes/Documents/Github/mole-patrol/backend/ml/model_training copy 2.ipynb Cell 15'\u001b[0m in \u001b[0;36m<module>\u001b[0;34m\u001b[0m\n\u001b[0;32m----> <a href='vscode-notebook-cell:/Users/johannes/Documents/Github/mole-patrol/backend/ml/model_training%20copy%202.ipynb#ch0000014?line=0'>1</a>\u001b[0m save_model(model, model_path)\n",
      "\u001b[0;31mNameError\u001b[0m: name 'model' is not defined"
     ]
    }
   ],
   "source": [
    "save_model(model, model_path)"
   ]
  },
  {
   "cell_type": "code",
   "execution_count": 8,
   "metadata": {},
   "outputs": [
    {
     "name": "stdout",
     "output_type": "stream",
     "text": [
      "Metal device set to: Apple M1 Pro\n",
      "\n",
      "systemMemory: 16.00 GB\n",
      "maxCacheSize: 5.33 GB\n",
      "\n"
     ]
    },
    {
     "name": "stderr",
     "output_type": "stream",
     "text": [
      "2022-03-10 13:11:01.154884: I tensorflow/core/common_runtime/pluggable_device/pluggable_device_factory.cc:305] Could not identify NUMA node of platform GPU ID 0, defaulting to 0. Your kernel may not have been built with NUMA support.\n",
      "2022-03-10 13:11:01.154978: I tensorflow/core/common_runtime/pluggable_device/pluggable_device_factory.cc:271] Created TensorFlow device (/job:localhost/replica:0/task:0/device:GPU:0 with 0 MB memory) -> physical PluggableDevice (device: 0, name: METAL, pci bus id: <undefined>)\n"
     ]
    },
    {
     "name": "stdout",
     "output_type": "stream",
     "text": [
      "Malignant proportion in training set: 0.49633333333333335\n",
      "Malignant proportion in validation set: 0.468\n",
      "Malignant proportion in test set: 0.4925373134328358\n",
      "Found 3000 validated image filenames belonging to 2 classes.\n",
      "Found 500 validated image filenames belonging to 2 classes.\n",
      "Found 469 validated image filenames belonging to 2 classes.\n"
     ]
    }
   ],
   "source": [
    "model = tf.keras.models.load_model(model_path)\n",
    "training_data, validation_data, test_data = load_data()"
   ]
  },
  {
   "cell_type": "code",
   "execution_count": 40,
   "metadata": {},
   "outputs": [],
   "source": [
    "# test_result = evaluate_model(model, test_data)\n",
    "# print(f\"Accuracy: {test_result[0]}\")\n",
    "# print(f\"F1-score: {test_result[1]}\")\n"
   ]
  },
  {
   "cell_type": "code",
   "execution_count": 41,
   "metadata": {},
   "outputs": [],
   "source": [
    "# print(training_result.history)"
   ]
  },
  {
   "cell_type": "code",
   "execution_count": 12,
   "metadata": {},
   "outputs": [
    {
     "data": {
      "image/png": "[encoded data removed]",
      "text/plain": [
       "<Figure size 432x288 with 1 Axes>"
      ]
     },
     "metadata": {
      "needs_background": "light"
     },
     "output_type": "display_data"
    }
   ],
   "source": [
    "labels = [\"loss\", \"val_loss\"]\n",
    "for label in labels:\n",
    "    plt.plot(training_result.history[label])\n",
    "plt.legend(labels)\n",
    "plt.show()"
   ]
  },
  {
   "cell_type": "code",
   "execution_count": 13,
   "metadata": {},
   "outputs": [
    {
     "data": {
      "image/png": "[encoded data removed]",
      "text/plain": [
       "<Figure size 432x288 with 1 Axes>"
      ]
     },
     "metadata": {
      "needs_background": "light"
     },
     "output_type": "display_data"
    }
   ],
   "source": [
    "labels = [\"accuracy\", \"val_accuracy\"]\n",
    "for label in labels:\n",
    "    plt.plot(training_result.history[label])\n",
    "plt.legend(labels)\n",
    "plt.show()"
   ]
  },
  {
   "cell_type": "code",
   "execution_count": 14,
   "metadata": {},
   "outputs": [
    {
     "data": {
      "image/png": "[encoded data removed]",
      "text/plain": [
       "<Figure size 432x288 with 1 Axes>"
      ]
     },
     "metadata": {
      "needs_background": "light"
     },
     "output_type": "display_data"
    }
   ],
   "source": [
    "labels = [\"auc\", \"val_auc\"]\n",
    "for label in labels:\n",
    "    plt.plot(training_result.history[label])\n",
    "plt.legend(labels)\n",
    "plt.show()"
   ]
  },
  {
   "cell_type": "code",
   "execution_count": 9,
   "metadata": {},
   "outputs": [],
   "source": [
    "def plot_cm(y_true, y_pred):\n",
    "  cm = confusion_matrix(y_true, y_pred)\n",
    "  plt.figure(figsize=(5,5))\n",
    "  sns.heatmap(cm, annot=True, fmt=\"d\")\n",
    "  plt.title(f'Title')\n",
    "  plt.ylabel('Actual label')\n",
    "  plt.xlabel('Predicted label')\n",
    "\n",
    "  # print('Legitimate Transactions Detected (True Negatives): ', cm[0][0])\n",
    "  # print('Legitimate Transactions Incorrectly Detected (False Positives): ', cm[0][1])\n",
    "  # print('Fraudulent Transactions Missed (False Negatives): ', cm[1][0])\n",
    "  # print('Fraudulent Transactions Detected (True Positives): ', cm[1][1])\n",
    "  # print('Total Fraudulent Transactions: ', np.sum(cm[1]))"
   ]
  },
  {
   "cell_type": "code",
   "execution_count": 10,
   "metadata": {},
   "outputs": [],
   "source": [
    "data_tuple = test_data[0]"
   ]
  },
  {
   "cell_type": "code",
   "execution_count": 11,
   "metadata": {},
   "outputs": [
    {
     "name": "stdout",
     "output_type": "stream",
     "text": [
      "(469, 128, 128, 3)\n"
     ]
    },
    {
     "name": "stderr",
     "output_type": "stream",
     "text": [
      "2022-03-10 13:11:49.712188: W tensorflow/core/platform/profile_utils/cpu_utils.cc:128] Failed to get CPU frequency: 0 Hz\n",
      "2022-03-10 13:11:49.742958: I tensorflow/core/grappler/optimizers/custom_graph_optimizer_registry.cc:112] Plugin optimizer for device_type GPU is enabled.\n"
     ]
    }
   ],
   "source": [
    "inputs = data_tuple[0]\n",
    "print(inputs.shape)\n",
    "predicted = model.predict(inputs)\n",
    "ground_truth = [x for x in data_tuple[1]]\n",
    "predictions = [x[0] for x in predicted]\n",
    "rounded_ground_truth = [round(x) for x in ground_truth]\n"
   ]
  },
  {
   "cell_type": "code",
   "execution_count": 12,
   "metadata": {},
   "outputs": [],
   "source": [
    "def ronud_by_threshold(x, threshold):\n",
    "    if x > threshold:\n",
    "        return 1\n",
    "    else:\n",
    "        return 0"
   ]
  },
  {
   "cell_type": "code",
   "execution_count": 13,
   "metadata": {},
   "outputs": [],
   "source": [
    "def show_f1(threshold):\n",
    "    rounded_predictions = [ronud_by_threshold(x, threshold) for x in predictions]\n",
    "    # print(rounded_ground_truth[0], rounded_predictions[0])\n",
    "    print(f\"Accuracy: {accuracy_score(rounded_ground_truth, rounded_predictions)}\")\n",
    "    print(f\"F1-score: {f1_score(rounded_ground_truth, rounded_predictions)}\")\n",
    "    plot_cm(rounded_ground_truth, rounded_predictions)"
   ]
  },
  {
   "cell_type": "code",
   "execution_count": 14,
   "metadata": {},
   "outputs": [
    {
     "data": {
      "application/vnd.jupyter.widget-view+json": {
       "model_id": "41b90c30d6b64ce3aeee46bd745d75ac",
       "version_major": 2,
       "version_minor": 0
      },
      "text/plain": [
       "interactive(children=(FloatSlider(value=0.5, description='threshold', max=1.0, step=0.01), Output()), _dom_cla…"
      ]
     },
     "metadata": {},
     "output_type": "display_data"
    },
    {
     "data": {
      "text/plain": [
       "<function __main__.show_f1(threshold)>"
      ]
     },
     "execution_count": 14,
     "metadata": {},
     "output_type": "execute_result"
    }
   ],
   "source": [
    "interact(show_f1, threshold=widgets.FloatSlider(value=0.5, min=0.0, max=1.0, step=0.01))"
   ]
  },
  {
   "cell_type": "code",
   "execution_count": 15,
   "metadata": {},
   "outputs": [
    {
     "data": {
      "image/png": "[encoded data removed]",
      "text/plain": [
       "<Figure size 432x288 with 1 Axes>"
      ]
     },
     "metadata": {
      "needs_background": "light"
     },
     "output_type": "display_data"
    }
   ],
   "source": [
    "xs = []\n",
    "accs = []\n",
    "f1s = []\n",
    "\n",
    "for i in range(0, 1000):\n",
    "    x = i / 1000.0\n",
    "    rounded_predictions = [ronud_by_threshold(temp, x) for temp in predictions]\n",
    "    acc = accuracy_score(rounded_ground_truth, rounded_predictions)\n",
    "    f1 = f1_score(rounded_ground_truth, rounded_predictions)\n",
    "\n",
    "    xs.append(x)\n",
    "    accs.append(acc)\n",
    "    f1s.append(f1)\n",
    "\n",
    "plt.plot(xs, accs)\n",
    "plt.plot(xs, f1s)\n",
    "plt.legend([\"Accyracy\", \"F1-score\"])\n",
    "plt.xlabel(\"Threshold\")\n",
    "plt.ylabel(\"Score\")\n",
    "plt.show()"
   ]
  },
  {
   "cell_type": "code",
   "execution_count": 16,
   "metadata": {},
   "outputs": [
    {
     "data": {
      "image/png": "[encoded data removed]",
      "text/plain": [
       "<Figure size 432x288 with 1 Axes>"
      ]
     },
     "metadata": {
      "needs_background": "light"
     },
     "output_type": "display_data"
    }
   ],
   "source": [
    "n_bins = 25\n",
    "benigns = np.zeros(n_bins + 1)\n",
    "malignants = np.zeros(n_bins + 1)\n",
    "\n",
    "for i in range(len(rounded_ground_truth)):\n",
    "    if (rounded_ground_truth[i] == 0):\n",
    "        benigns[int(predictions[i] * n_bins)] += 1\n",
    "    else:\n",
    "        malignants[int(predictions[i] * n_bins)] += 1\n",
    "\n",
    "\n",
    "# plt.plot(xs, y1s)\n",
    "# plt.plot(xs, y2s)\n",
    "plt.plot(np.array(range(n_bins + 1)) * 1.0 / n_bins, benigns)\n",
    "plt.plot(np.array(range(n_bins + 1)) * 1.0 / n_bins, malignants)\n",
    "\n",
    "plt.legend([\"Benign\", \"Malignant\"])\n",
    "plt.xlabel(\"% malignant\")\n",
    "# plt.ylabel(\"Score\")\n",
    "plt.show()"
   ]
  },
  {
   "cell_type": "code",
   "execution_count": 33,
   "metadata": {},
   "outputs": [],
   "source": [
    "# plot_cm(rounded_ground_truth, rounded_predictions)"
   ]
  },
  {
   "cell_type": "code",
   "execution_count": null,
   "metadata": {},
   "outputs": [],
   "source": []
  }
 ],
 "metadata": {
  "interpreter": {
   "hash": "b305a4b1270f31cd6e864a4acd6c4c9eb3f00ef58e83b7f05205adf2ab7c38fb"
  },
  "kernelspec": {
   "display_name": "Python 3 (ipykernel)",
   "language": "python",
   "name": "python3"
  },
  "language_info": {
   "codemirror_mode": {
    "name": "ipython",
    "version": 3
   },
   "file_extension": ".py",
   "mimetype": "text/x-python",
   "name": "python",
   "nbconvert_exporter": "python",
   "pygments_lexer": "ipython3",
   "version": "3.9.10"
  }
 },
 "nbformat": 4,
 "nbformat_minor": 2
}
