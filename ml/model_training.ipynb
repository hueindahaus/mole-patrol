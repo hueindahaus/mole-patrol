{
 "cells": [
  {
   "cell_type": "code",
   "execution_count": 1,
   "metadata": {},
   "outputs": [],
   "source": [
    "import numpy as np\n",
    "from tensorflow.keras.preprocessing.image import ImageDataGenerator, NumpyArrayIterator\n",
    "from matplotlib import pyplot as plt\n",
    "import tensorflow as tf\n",
    "from tensorflow.keras import layers\n",
    "from tensorflow.keras.losses import SparseCategoricalCrossentropy, CategoricalCrossentropy\n",
    "\n",
    "from tensorflow.keras import applications\n",
    "from tensorflow.keras.preprocessing.image import load_img, img_to_array\n",
    "\n",
    "import pandas as pd"
   ]
  },
  {
   "cell_type": "code",
   "execution_count": 2,
   "metadata": {},
   "outputs": [],
   "source": [
    "img_size = 256\n",
    "batch_size = 32"
   ]
  },
  {
   "cell_type": "markdown",
   "metadata": {},
   "source": [
    "### Load the data"
   ]
  },
  {
   "cell_type": "code",
   "execution_count": 3,
   "metadata": {},
   "outputs": [],
   "source": [
    "# df = pd.read_csv(\"data/HAM10000_metadata.csv\")\n",
    "# df[\"image_id\"] = df[\"image_id\"].apply(lambda string: int(string[5:]))\n",
    "\n",
    "# # not sure if \"vasc\" is malignant or not, but after looking up the different types of lesions\n",
    "# # it seems like \"akiec\", \"bcc\" and \"mel\" are malignant and the others are benign\n",
    "# df[\"label\"] = df[\"dx\"].apply(lambda dx: \"malignant\" if dx in [\"akiec\", \"bcc\", \"mel\"] else \"benign\") \n",
    "\n",
    "# training_df = df[df[\"image_id\"] < 32306]\n",
    "# testing_df = df[df[\"image_id\"] >= 32306]\n",
    "\n",
    "# training_df[\"image_id\"] = training_df[\"image_id\"].apply(lambda id: f\"ISIC_00{id}.jpg\")\n",
    "# testing_df[\"image_id\"] = testing_df[\"image_id\"].apply(lambda id: f\"ISIC_00{id}.jpg\")\n",
    "\n",
    "# training_df.to_csv(\"data/training_metadata.csv\")\n",
    "# testing_df.to_csv(\"data/testing_metadata.csv\")"
   ]
  },
  {
   "cell_type": "code",
   "execution_count": 3,
   "metadata": {},
   "outputs": [],
   "source": [
    "def load_data():\n",
    "    training_df = pd.read_csv(\"data/training_metadata.csv\")\n",
    "    testing_df = pd.read_csv(\"data/testing_metadata.csv\")\n",
    "    \n",
    "    training_data_generator = ImageDataGenerator(\n",
    "        rescale=1.0/255,\n",
    "        validation_split=0.125,\n",
    "        rotation_range=360,\n",
    "        horizontal_flip=True,\n",
    "        vertical_flip=True,\n",
    "        brightness_range=[0.5, 1.0],\n",
    "        zoom_range=[0.75, 1.0]\n",
    "    )\n",
    "    \n",
    "    testing_data_generator = ImageDataGenerator(\n",
    "        rescale=1.0/255\n",
    "    )\n",
    "    \n",
    "    training_data = training_data_generator.flow_from_dataframe(\n",
    "        dataframe= training_df,\n",
    "        directory=\"data/training\",\n",
    "        x_col=\"image_id\",\n",
    "        y_col=\"label\",\n",
    "        target_size=(img_size, img_size),\n",
    "        batch_size=batch_size,\n",
    "        class_mode=\"binary\",\n",
    "        classes=[\"benign\", \"malignant\"],\n",
    "        subset=\"training\",\n",
    "        shuffle=True\n",
    "    )\n",
    "\n",
    "    validation_data = training_data_generator.flow_from_dataframe(\n",
    "        dataframe=training_df,\n",
    "        directory=\"data/training\",\n",
    "        x_col=\"image_id\",\n",
    "        y_col=\"label\",\n",
    "        target_size=(img_size, img_size),\n",
    "        batch_size=batch_size,\n",
    "        class_mode=\"binary\",\n",
    "        classes=[\"benign\", \"malignant\"],\n",
    "        subset=\"validation\",\n",
    "        shuffle=True\n",
    "    )\n",
    "\n",
    "    test_data = testing_data_generator.flow_from_dataframe(\n",
    "        dataframe=testing_df,\n",
    "        directory=\"data/testing\",\n",
    "        x_col=\"image_id\",\n",
    "        y_col=\"label\",\n",
    "        target_size=(img_size, img_size),\n",
    "        batch_size=batch_size,\n",
    "        class_mode=\"binary\",\n",
    "        classes=[\"benign\", \"malignant\"]\n",
    "    )\n",
    "\n",
    "    return training_data, validation_data, test_data\n"
   ]
  },
  {
   "cell_type": "markdown",
   "metadata": {},
   "source": [
    "### Creating the model\n",
    "Explanation of why the model looks like it does"
   ]
  },
  {
   "cell_type": "code",
   "execution_count": 4,
   "metadata": {},
   "outputs": [],
   "source": [
    "def create_model():\n",
    "    model = tf.keras.Sequential()\n",
    "    model.add(layers.Conv2D(32, (3, 3), activation='relu', input_shape=(img_size, img_size, 3)))\n",
    "    model.add(layers.MaxPooling2D((2, 2)))\n",
    "    model.add(layers.Conv2D(64, (3, 3), activation='relu'))\n",
    "    model.add(layers.Flatten())\n",
    "    model.add(layers.Dense(64, activation='relu'))\n",
    "    model.add(layers.Dense(1, activation='sigmoid'))\n",
    "    model.compile(optimizer='adam', loss=\"binary_crossentropy\", metrics=['accuracy'])\n",
    "\n",
    "    return model"
   ]
  },
  {
   "cell_type": "markdown",
   "metadata": {},
   "source": [
    "### Training the model"
   ]
  },
  {
   "cell_type": "code",
   "execution_count": 5,
   "metadata": {},
   "outputs": [],
   "source": [
    "def train_model(model, training_data, validation_data):\n",
    "    history = model.fit(training_data, epochs=15, validation_data=validation_data)\n",
    "    return history"
   ]
  },
  {
   "cell_type": "markdown",
   "metadata": {},
   "source": [
    "### Evaluate the model"
   ]
  },
  {
   "cell_type": "code",
   "execution_count": 6,
   "metadata": {},
   "outputs": [],
   "source": [
    "def evaluate_model(model, test_data):\n",
    "    return None"
   ]
  },
  {
   "cell_type": "markdown",
   "metadata": {},
   "source": [
    "Comments on the results"
   ]
  },
  {
   "cell_type": "code",
   "execution_count": 7,
   "metadata": {},
   "outputs": [],
   "source": [
    "def save_model(model, path):\n",
    "    model.save_weights(path)"
   ]
  },
  {
   "cell_type": "markdown",
   "metadata": {},
   "source": [
    "### Putting it all together"
   ]
  },
  {
   "cell_type": "code",
   "execution_count": null,
   "metadata": {},
   "outputs": [],
   "source": [
    "model = create_model()\n",
    "training_data, validation_data, test_data = load_data()\n",
    "training_result = train_model(model, training_data, validation_data)\n",
    "# save_model(model, \"/models/model_1\")"
   ]
  },
  {
   "cell_type": "code",
   "execution_count": 8,
   "metadata": {},
   "outputs": [
    {
     "name": "stderr",
     "output_type": "stream",
     "text": [
      "2022-03-03 23:50:20.582502: I tensorflow/core/common_runtime/pluggable_device/pluggable_device_factory.cc:305] Could not identify NUMA node of platform GPU ID 0, defaulting to 0. Your kernel may not have been built with NUMA support.\n",
      "2022-03-03 23:50:20.582672: I tensorflow/core/common_runtime/pluggable_device/pluggable_device_factory.cc:271] Created TensorFlow device (/job:localhost/replica:0/task:0/device:GPU:0 with 0 MB memory) -> physical PluggableDevice (device: 0, name: METAL, pci bus id: <undefined>)\n"
     ]
    },
    {
     "name": "stdout",
     "output_type": "stream",
     "text": [
      "Metal device set to: Apple M1 Pro\n",
      "\n",
      "systemMemory: 16.00 GB\n",
      "maxCacheSize: 5.33 GB\n",
      "\n",
      "Found 7000 validated image filenames belonging to 2 classes.\n",
      "Found 1000 validated image filenames belonging to 2 classes.\n",
      "Found 2015 validated image filenames belonging to 2 classes.\n"
     ]
    }
   ],
   "source": [
    "model = create_model()\n",
    "model.load_weights(\"./models/model_1\")\n",
    "training_data, validation_data, test_data = load_data()"
   ]
  },
  {
   "cell_type": "code",
   "execution_count": 21,
   "metadata": {},
   "outputs": [
    {
     "name": "stdout",
     "output_type": "stream",
     "text": [
      "{'loss': [0.8761210441589355, 0.3600882291793823, 0.36630088090896606, 0.3568534851074219, 0.350920170545578, 0.3421679735183716, 0.3431474268436432, 0.33331090211868286, 0.3477310538291931, 0.3356291353702545, 0.3328574597835541, 0.32854875922203064, 0.3208549916744232, 0.3236140310764313, 0.32605215907096863], 'accuracy': [0.7925714254379272, 0.8299999833106995, 0.8118571639060974, 0.8102856874465942, 0.8265714049339294, 0.8418571352958679, 0.8341428637504578, 0.845714271068573, 0.8374285697937012, 0.8411428332328796, 0.8451428413391113, 0.8468571305274963, 0.8511428236961365, 0.8494285345077515, 0.8465714454650879], 'val_loss': [0.6527982950210571, 0.5695208311080933, 0.5323812365531921, 0.6083076596260071, 0.6238216757774353, 0.6204972267150879, 0.6021282076835632, 0.7656345367431641, 0.7565832138061523, 0.6220638155937195, 0.7057570815086365, 0.6970781087875366, 0.6837025284767151, 0.6913937330245972, 0.6959826946258545], 'val_accuracy': [0.35200002789497375, 0.6650000214576721, 0.8680000305175781, 0.5750000476837158, 0.48500001430511475, 0.4930000305175781, 0.6190000176429749, 0.359000027179718, 0.3880000114440918, 0.6030000448226929, 0.5139999985694885, 0.5210000276565552, 0.5509999990463257, 0.5570000410079956, 0.5370000004768372]}\n"
     ]
    }
   ],
   "source": [
    "print(training_result.history)"
   ]
  },
  {
   "cell_type": "code",
   "execution_count": 22,
   "metadata": {},
   "outputs": [
    {
     "data": {
      "image/png": "[encoded data removed]",
      "text/plain": [
       "<Figure size 432x288 with 1 Axes>"
      ]
     },
     "metadata": {
      "needs_background": "light"
     },
     "output_type": "display_data"
    }
   ],
   "source": [
    "labels = [\"loss\", \"val_loss\"]\n",
    "for label in labels:\n",
    "    plt.plot(training_result.history[label])\n",
    "plt.legend(labels)\n",
    "plt.show()"
   ]
  },
  {
   "cell_type": "code",
   "execution_count": 23,
   "metadata": {},
   "outputs": [
    {
     "data": {
      "image/png": "[encoded data removed]",
      "text/plain": [
       "<Figure size 432x288 with 1 Axes>"
      ]
     },
     "metadata": {
      "needs_background": "light"
     },
     "output_type": "display_data"
    }
   ],
   "source": [
    "labels = [\"accuracy\", \"val_accuracy\"]\n",
    "for label in labels:\n",
    "    plt.plot(training_result.history[label])\n",
    "plt.legend(labels)\n",
    "plt.show()"
   ]
  },
  {
   "cell_type": "code",
   "execution_count": 12,
   "metadata": {},
   "outputs": [],
   "source": [
    "predictions = model.predict(test_data)"
   ]
  },
  {
   "cell_type": "code",
   "execution_count": 13,
   "metadata": {},
   "outputs": [
    {
     "name": "stdout",
     "output_type": "stream",
     "text": [
      "data/testing/ISIC_0033744.jpg\n",
      "0.5709853\n"
     ]
    }
   ],
   "source": [
    "print(test_data._filepaths[100])\n",
    "print(predictions[100, 0])"
   ]
  },
  {
   "cell_type": "code",
   "execution_count": null,
   "metadata": {},
   "outputs": [],
   "source": []
  }
 ],
 "metadata": {
  "interpreter": {
   "hash": "b305a4b1270f31cd6e864a4acd6c4c9eb3f00ef58e83b7f05205adf2ab7c38fb"
  },
  "kernelspec": {
   "display_name": "Python 3.9.10 ('ml-env')",
   "language": "python",
   "name": "python3"
  },
  "language_info": {
   "codemirror_mode": {
    "name": "ipython",
    "version": 3
   },
   "file_extension": ".py",
   "mimetype": "text/x-python",
   "name": "python",
   "nbconvert_exporter": "python",
   "pygments_lexer": "ipython3",
   "version": "3.9.10"
  },
  "orig_nbformat": 4
 },
 "nbformat": 4,
 "nbformat_minor": 2
}
