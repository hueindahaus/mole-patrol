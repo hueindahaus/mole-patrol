{
 "cells": [
  {
   "cell_type": "code",
   "execution_count": 1,
   "metadata": {},
   "outputs": [],
   "source": [
    "import numpy as np\n",
    "from tensorflow.keras.preprocessing.image import ImageDataGenerator, NumpyArrayIterator\n",
    "from matplotlib import pyplot as plt\n",
    "import tensorflow as tf\n",
    "from tensorflow.keras import layers\n",
    "from tensorflow.keras.losses import SparseCategoricalCrossentropy, CategoricalCrossentropy\n",
    "\n",
    "from tensorflow.keras import applications\n",
    "from tensorflow.keras.preprocessing.image import load_img, img_to_array\n",
    "\n",
    "import pandas as pd"
   ]
  },
  {
   "cell_type": "code",
   "execution_count": 2,
   "metadata": {},
   "outputs": [],
   "source": [
    "img_size = 128\n",
    "batch_size = 32"
   ]
  },
  {
   "cell_type": "markdown",
   "metadata": {},
   "source": [
    "### Load the data"
   ]
  },
  {
   "cell_type": "code",
   "execution_count": 4,
   "metadata": {},
   "outputs": [],
   "source": [
    "def load_data():\n",
    "    df = pd.read_csv(\"data/HAM10000_metadata.csv\")\n",
    "    df[\"label\"] = df[\"dx\"].apply(lambda dx: \"malignant\" if dx in [\"akiec\", \"bcc\", \"mel\"] else \"benign\") \n",
    "    df[\"image_id\"] = df[\"image_id\"].apply(lambda id: f\"{id}.jpg\")\n",
    "    df = df.sample(frac=1, random_state=0)\n",
    "    \n",
    "    training_df = df[:7999]\n",
    "    testing_df = df[8000:]\n",
    "    \n",
    "    training_data_generator = ImageDataGenerator(\n",
    "        rescale=1.0/255,\n",
    "        validation_split=0.125,\n",
    "        rotation_range=360,\n",
    "        horizontal_flip=True,\n",
    "        vertical_flip=True,\n",
    "        brightness_range=[0.5, 1.0],\n",
    "        zoom_range=[0.75, 1.0]\n",
    "    )\n",
    "    \n",
    "    testing_data_generator = ImageDataGenerator(\n",
    "        rescale=1.0/255\n",
    "    )\n",
    "    \n",
    "    training_data = training_data_generator.flow_from_dataframe(\n",
    "        dataframe= training_df,\n",
    "        directory=\"data/images\",\n",
    "        x_col=\"image_id\",\n",
    "        y_col=\"label\",\n",
    "        target_size=(img_size, img_size),\n",
    "        batch_size=batch_size,\n",
    "        class_mode=\"binary\",\n",
    "        classes=[\"benign\", \"malignant\"],\n",
    "        subset=\"training\",\n",
    "        shuffle=True\n",
    "    )\n",
    "\n",
    "    validation_data = training_data_generator.flow_from_dataframe(\n",
    "        dataframe=training_df,\n",
    "        directory=\"data/images\",\n",
    "        x_col=\"image_id\",\n",
    "        y_col=\"label\",\n",
    "        target_size=(img_size, img_size),\n",
    "        batch_size=batch_size,\n",
    "        class_mode=\"binary\",\n",
    "        classes=[\"benign\", \"malignant\"],\n",
    "        subset=\"validation\",\n",
    "        shuffle=True\n",
    "    )\n",
    "\n",
    "    test_data = testing_data_generator.flow_from_dataframe(\n",
    "        dataframe=testing_df,\n",
    "        directory=\"data/images\",\n",
    "        x_col=\"image_id\",\n",
    "        y_col=\"label\",\n",
    "        target_size=(img_size, img_size),\n",
    "        class_mode=\"binary\",\n",
    "        classes=[\"benign\", \"malignant\"]\n",
    "    )\n",
    "\n",
    "    return training_data, validation_data, test_data\n"
   ]
  },
  {
   "cell_type": "markdown",
   "metadata": {},
   "source": [
    "### Creating the model\n",
    "Explanation of why the model looks like it does"
   ]
  },
  {
   "cell_type": "code",
   "execution_count": 5,
   "metadata": {},
   "outputs": [],
   "source": [
    "def create_model():\n",
    "    model = tf.keras.Sequential()\n",
    "    model.add(layers.Conv2D(32, (3, 3), activation='relu', input_shape=(img_size, img_size, 3)))\n",
    "    model.add(layers.MaxPooling2D((2, 2)))\n",
    "    model.add(layers.Conv2D(64, (3, 3), activation='relu'))\n",
    "    model.add(layers.Flatten())\n",
    "    model.add(layers.Dense(64, activation='relu'))\n",
    "    model.add(layers.Dense(1, activation='sigmoid'))\n",
    "    model.compile(optimizer='adam', loss=\"binary_crossentropy\", metrics=['accuracy'])\n",
    "\n",
    "    return model"
   ]
  },
  {
   "cell_type": "markdown",
   "metadata": {},
   "source": [
    "### Training the model"
   ]
  },
  {
   "cell_type": "code",
   "execution_count": 10,
   "metadata": {},
   "outputs": [],
   "source": [
    "def train_model(model, training_data, validation_data):\n",
    "    history = model.fit(training_data, epochs=15, validation_data=validation_data)\n",
    "    return history"
   ]
  },
  {
   "cell_type": "markdown",
   "metadata": {},
   "source": [
    "### Evaluate the model"
   ]
  },
  {
   "cell_type": "code",
   "execution_count": 7,
   "metadata": {},
   "outputs": [],
   "source": [
    "def evaluate_model(model, test_data):\n",
    "    return None"
   ]
  },
  {
   "cell_type": "markdown",
   "metadata": {},
   "source": [
    "Comments on the results"
   ]
  },
  {
   "cell_type": "code",
   "execution_count": 8,
   "metadata": {},
   "outputs": [],
   "source": [
    "def save_model(model, path):\n",
    "    model.save_weights(path)"
   ]
  },
  {
   "cell_type": "markdown",
   "metadata": {},
   "source": [
    "### Putting it all together"
   ]
  },
  {
   "cell_type": "code",
   "execution_count": 11,
   "metadata": {},
   "outputs": [
    {
     "name": "stdout",
     "output_type": "stream",
     "text": [
      "Found 7000 validated image filenames belonging to 2 classes.\n",
      "Found 999 validated image filenames belonging to 2 classes.\n",
      "Found 2015 validated image filenames belonging to 2 classes.\n",
      "Epoch 1/15\n"
     ]
    },
    {
     "name": "stderr",
     "output_type": "stream",
     "text": [
      "2022-03-04 12:34:54.801022: I tensorflow/core/grappler/optimizers/custom_graph_optimizer_registry.cc:112] Plugin optimizer for device_type GPU is enabled.\n"
     ]
    },
    {
     "name": "stdout",
     "output_type": "stream",
     "text": [
      "219/219 [==============================] - ETA: 0s - loss: 0.5403 - accuracy: 0.7956"
     ]
    },
    {
     "name": "stderr",
     "output_type": "stream",
     "text": [
      "2022-03-04 12:35:45.313046: I tensorflow/core/grappler/optimizers/custom_graph_optimizer_registry.cc:112] Plugin optimizer for device_type GPU is enabled.\n"
     ]
    },
    {
     "name": "stdout",
     "output_type": "stream",
     "text": [
      "219/219 [==============================] - 58s 263ms/step - loss: 0.5403 - accuracy: 0.7956 - val_loss: 0.4024 - val_accuracy: 0.8188\n",
      "Epoch 2/15\n",
      "219/219 [==============================] - 58s 263ms/step - loss: 0.4192 - accuracy: 0.8044 - val_loss: 0.4045 - val_accuracy: 0.8178\n",
      "Epoch 3/15\n",
      "219/219 [==============================] - 58s 264ms/step - loss: 0.4013 - accuracy: 0.8064 - val_loss: 0.3753 - val_accuracy: 0.8178\n",
      "Epoch 4/15\n",
      "219/219 [==============================] - 58s 264ms/step - loss: 0.4023 - accuracy: 0.8034 - val_loss: 0.3778 - val_accuracy: 0.8178\n",
      "Epoch 5/15\n",
      "219/219 [==============================] - 58s 265ms/step - loss: 0.3936 - accuracy: 0.8056 - val_loss: 0.3782 - val_accuracy: 0.8178\n",
      "Epoch 6/15\n",
      "219/219 [==============================] - 58s 264ms/step - loss: 0.3901 - accuracy: 0.8057 - val_loss: 0.3920 - val_accuracy: 0.8178\n",
      "Epoch 7/15\n",
      "219/219 [==============================] - 58s 264ms/step - loss: 0.3881 - accuracy: 0.8060 - val_loss: 0.3789 - val_accuracy: 0.8188\n",
      "Epoch 8/15\n",
      "219/219 [==============================] - 58s 263ms/step - loss: 0.3858 - accuracy: 0.8067 - val_loss: 0.3650 - val_accuracy: 0.8188\n",
      "Epoch 9/15\n",
      "219/219 [==============================] - 57s 261ms/step - loss: 0.3838 - accuracy: 0.8063 - val_loss: 0.3852 - val_accuracy: 0.8178\n",
      "Epoch 10/15\n",
      "219/219 [==============================] - 57s 261ms/step - loss: 0.3912 - accuracy: 0.8051 - val_loss: 0.3869 - val_accuracy: 0.8178\n",
      "Epoch 11/15\n",
      "219/219 [==============================] - 57s 260ms/step - loss: 0.3844 - accuracy: 0.8066 - val_loss: 0.3678 - val_accuracy: 0.8188\n",
      "Epoch 12/15\n",
      "219/219 [==============================] - 57s 260ms/step - loss: 0.3811 - accuracy: 0.8063 - val_loss: 0.3627 - val_accuracy: 0.8198\n",
      "Epoch 13/15\n",
      "219/219 [==============================] - 57s 260ms/step - loss: 0.3814 - accuracy: 0.8069 - val_loss: 0.3647 - val_accuracy: 0.8188\n",
      "Epoch 14/15\n",
      "219/219 [==============================] - 57s 262ms/step - loss: 0.3766 - accuracy: 0.8056 - val_loss: 0.3643 - val_accuracy: 0.8198\n",
      "Epoch 15/15\n",
      "219/219 [==============================] - 57s 260ms/step - loss: 0.3774 - accuracy: 0.8070 - val_loss: 0.3708 - val_accuracy: 0.8148\n"
     ]
    },
    {
     "ename": "PermissionDeniedError",
     "evalue": "/models; Read-only file system",
     "output_type": "error",
     "traceback": [
      "\u001b[0;31m---------------------------------------------------------------------------\u001b[0m",
      "\u001b[0;31mPermissionDeniedError\u001b[0m                     Traceback (most recent call last)",
      "\u001b[1;32m/Users/johannes/Documents/Github/mole-patrol/ml/model_training.ipynb Cell 14'\u001b[0m in \u001b[0;36m<module>\u001b[0;34m\u001b[0m\n\u001b[1;32m      <a href='vscode-notebook-cell:/Users/johannes/Documents/Github/mole-patrol/ml/model_training.ipynb#ch0000014?line=1'>2</a>\u001b[0m training_data, validation_data, test_data \u001b[39m=\u001b[39m load_data()\n\u001b[1;32m      <a href='vscode-notebook-cell:/Users/johannes/Documents/Github/mole-patrol/ml/model_training.ipynb#ch0000014?line=2'>3</a>\u001b[0m training_result \u001b[39m=\u001b[39m train_model(model, training_data, validation_data)\n\u001b[0;32m----> <a href='vscode-notebook-cell:/Users/johannes/Documents/Github/mole-patrol/ml/model_training.ipynb#ch0000014?line=3'>4</a>\u001b[0m save_model(model, \u001b[39m\"\u001b[39;49m\u001b[39m/models/model_2\u001b[39;49m\u001b[39m\"\u001b[39;49m)\n",
      "\u001b[1;32m/Users/johannes/Documents/Github/mole-patrol/ml/model_training.ipynb Cell 12'\u001b[0m in \u001b[0;36msave_model\u001b[0;34m(model, path)\u001b[0m\n\u001b[1;32m      <a href='vscode-notebook-cell:/Users/johannes/Documents/Github/mole-patrol/ml/model_training.ipynb#ch0000012?line=0'>1</a>\u001b[0m \u001b[39mdef\u001b[39;00m \u001b[39msave_model\u001b[39m(model, path):\n\u001b[0;32m----> <a href='vscode-notebook-cell:/Users/johannes/Documents/Github/mole-patrol/ml/model_training.ipynb#ch0000012?line=1'>2</a>\u001b[0m     model\u001b[39m.\u001b[39;49msave_weights(path)\n",
      "File \u001b[0;32m/opt/homebrew/Caskroom/miniforge/base/envs/ml-env/lib/python3.9/site-packages/keras/utils/traceback_utils.py:67\u001b[0m, in \u001b[0;36mfilter_traceback.<locals>.error_handler\u001b[0;34m(*args, **kwargs)\u001b[0m\n\u001b[1;32m     <a href='file:///opt/homebrew/Caskroom/miniforge/base/envs/ml-env/lib/python3.9/site-packages/keras/utils/traceback_utils.py?line=64'>65</a>\u001b[0m \u001b[39mexcept\u001b[39;00m \u001b[39mException\u001b[39;00m \u001b[39mas\u001b[39;00m e:  \u001b[39m# pylint: disable=broad-except\u001b[39;00m\n\u001b[1;32m     <a href='file:///opt/homebrew/Caskroom/miniforge/base/envs/ml-env/lib/python3.9/site-packages/keras/utils/traceback_utils.py?line=65'>66</a>\u001b[0m   filtered_tb \u001b[39m=\u001b[39m _process_traceback_frames(e\u001b[39m.\u001b[39m__traceback__)\n\u001b[0;32m---> <a href='file:///opt/homebrew/Caskroom/miniforge/base/envs/ml-env/lib/python3.9/site-packages/keras/utils/traceback_utils.py?line=66'>67</a>\u001b[0m   \u001b[39mraise\u001b[39;00m e\u001b[39m.\u001b[39mwith_traceback(filtered_tb) \u001b[39mfrom\u001b[39;00m \u001b[39mNone\u001b[39m\n\u001b[1;32m     <a href='file:///opt/homebrew/Caskroom/miniforge/base/envs/ml-env/lib/python3.9/site-packages/keras/utils/traceback_utils.py?line=67'>68</a>\u001b[0m \u001b[39mfinally\u001b[39;00m:\n\u001b[1;32m     <a href='file:///opt/homebrew/Caskroom/miniforge/base/envs/ml-env/lib/python3.9/site-packages/keras/utils/traceback_utils.py?line=68'>69</a>\u001b[0m   \u001b[39mdel\u001b[39;00m filtered_tb\n",
      "File \u001b[0;32m/opt/homebrew/Caskroom/miniforge/base/envs/ml-env/lib/python3.9/site-packages/tensorflow/python/lib/io/file_io.py:515\u001b[0m, in \u001b[0;36mrecursive_create_dir_v2\u001b[0;34m(path)\u001b[0m\n\u001b[1;32m    <a href='file:///opt/homebrew/Caskroom/miniforge/base/envs/ml-env/lib/python3.9/site-packages/tensorflow/python/lib/io/file_io.py?line=502'>503</a>\u001b[0m \u001b[39m@tf_export\u001b[39m(\u001b[39m\"\u001b[39m\u001b[39mio.gfile.makedirs\u001b[39m\u001b[39m\"\u001b[39m)\n\u001b[1;32m    <a href='file:///opt/homebrew/Caskroom/miniforge/base/envs/ml-env/lib/python3.9/site-packages/tensorflow/python/lib/io/file_io.py?line=503'>504</a>\u001b[0m \u001b[39mdef\u001b[39;00m \u001b[39mrecursive_create_dir_v2\u001b[39m(path):\n\u001b[1;32m    <a href='file:///opt/homebrew/Caskroom/miniforge/base/envs/ml-env/lib/python3.9/site-packages/tensorflow/python/lib/io/file_io.py?line=504'>505</a>\u001b[0m   \u001b[39m\"\"\"Creates a directory and all parent/intermediate directories.\u001b[39;00m\n\u001b[1;32m    <a href='file:///opt/homebrew/Caskroom/miniforge/base/envs/ml-env/lib/python3.9/site-packages/tensorflow/python/lib/io/file_io.py?line=505'>506</a>\u001b[0m \n\u001b[1;32m    <a href='file:///opt/homebrew/Caskroom/miniforge/base/envs/ml-env/lib/python3.9/site-packages/tensorflow/python/lib/io/file_io.py?line=506'>507</a>\u001b[0m \u001b[39m  It succeeds if path already exists and is writable.\u001b[39;00m\n\u001b[0;32m   (...)\u001b[0m\n\u001b[1;32m    <a href='file:///opt/homebrew/Caskroom/miniforge/base/envs/ml-env/lib/python3.9/site-packages/tensorflow/python/lib/io/file_io.py?line=512'>513</a>\u001b[0m \u001b[39m    errors.OpError: If the operation fails.\u001b[39;00m\n\u001b[1;32m    <a href='file:///opt/homebrew/Caskroom/miniforge/base/envs/ml-env/lib/python3.9/site-packages/tensorflow/python/lib/io/file_io.py?line=513'>514</a>\u001b[0m \u001b[39m  \"\"\"\u001b[39;00m\n\u001b[0;32m--> <a href='file:///opt/homebrew/Caskroom/miniforge/base/envs/ml-env/lib/python3.9/site-packages/tensorflow/python/lib/io/file_io.py?line=514'>515</a>\u001b[0m   _pywrap_file_io\u001b[39m.\u001b[39;49mRecursivelyCreateDir(compat\u001b[39m.\u001b[39;49mpath_to_bytes(path))\n",
      "\u001b[0;31mPermissionDeniedError\u001b[0m: /models; Read-only file system"
     ]
    }
   ],
   "source": [
    "model = create_model()\n",
    "training_data, validation_data, test_data = load_data()\n",
    "training_result = train_model(model, training_data, validation_data)\n",
    "save_model(model, \"./models/model_2\")"
   ]
  },
  {
   "cell_type": "code",
   "execution_count": null,
   "metadata": {},
   "outputs": [],
   "source": [
    "model = create_model()\n",
    "model.load_weights(\"./models/model_1\")\n",
    "training_data, validation_data, test_data = load_data()"
   ]
  },
  {
   "cell_type": "code",
   "execution_count": 13,
   "metadata": {},
   "outputs": [
    {
     "name": "stdout",
     "output_type": "stream",
     "text": [
      "{'loss': [0.5403140187263489, 0.4191751182079315, 0.40130019187927246, 0.4022868573665619, 0.39360153675079346, 0.39010676741600037, 0.38812100887298584, 0.38577592372894287, 0.38378921151161194, 0.3912222981452942, 0.3843631446361542, 0.3811449110507965, 0.38135582208633423, 0.3766160011291504, 0.3773989677429199], 'accuracy': [0.7955714464187622, 0.8044285774230957, 0.8064285516738892, 0.803428590297699, 0.805571436882019, 0.8057142496109009, 0.8059999942779541, 0.8067142963409424, 0.8062856793403625, 0.8051428198814392, 0.8065714240074158, 0.8062856793403625, 0.8068571090698242, 0.805571436882019, 0.8069999814033508], 'val_loss': [0.40239217877388, 0.4044511616230011, 0.37526485323905945, 0.37782904505729675, 0.3781692087650299, 0.3920169174671173, 0.3789091110229492, 0.36504560708999634, 0.3852030336856842, 0.3868916630744934, 0.3677709102630615, 0.36269745230674744, 0.36466142535209656, 0.3642929792404175, 0.3708357512950897], 'val_accuracy': [0.8188188076019287, 0.8178178071975708, 0.8178178071975708, 0.8178178071975708, 0.8178178071975708, 0.8178178071975708, 0.8188188076019287, 0.8188188076019287, 0.8178178071975708, 0.8178178071975708, 0.8188188076019287, 0.8198198080062866, 0.8188188076019287, 0.8198198080062866, 0.8148148059844971]}\n"
     ]
    }
   ],
   "source": [
    "print(training_result.history)"
   ]
  },
  {
   "cell_type": "code",
   "execution_count": 14,
   "metadata": {},
   "outputs": [
    {
     "data": {
      "image/png": "[encoded data removed]",
      "text/plain": [
       "<Figure size 432x288 with 1 Axes>"
      ]
     },
     "metadata": {
      "needs_background": "light"
     },
     "output_type": "display_data"
    }
   ],
   "source": [
    "labels = [\"loss\", \"val_loss\"]\n",
    "for label in labels:\n",
    "    plt.plot(training_result.history[label])\n",
    "plt.legend(labels)\n",
    "plt.show()"
   ]
  },
  {
   "cell_type": "code",
   "execution_count": 15,
   "metadata": {},
   "outputs": [
    {
     "data": {
      "image/png": "[encoded data removed]",
      "text/plain": [
       "<Figure size 432x288 with 1 Axes>"
      ]
     },
     "metadata": {
      "needs_background": "light"
     },
     "output_type": "display_data"
    }
   ],
   "source": [
    "labels = [\"accuracy\", \"val_accuracy\"]\n",
    "for label in labels:\n",
    "    plt.plot(training_result.history[label])\n",
    "plt.legend(labels)\n",
    "plt.show()"
   ]
  },
  {
   "cell_type": "code",
   "execution_count": 16,
   "metadata": {},
   "outputs": [
    {
     "name": "stderr",
     "output_type": "stream",
     "text": [
      "2022-03-04 12:50:04.786674: I tensorflow/core/grappler/optimizers/custom_graph_optimizer_registry.cc:112] Plugin optimizer for device_type GPU is enabled.\n"
     ]
    }
   ],
   "source": [
    "predictions = model.predict(test_data)"
   ]
  },
  {
   "cell_type": "code",
   "execution_count": 22,
   "metadata": {},
   "outputs": [
    {
     "name": "stdout",
     "output_type": "stream",
     "text": [
      "data/images/ISIC_0024742.jpg\n",
      "0.38459924\n"
     ]
    }
   ],
   "source": [
    "print(test_data._filepaths[0])\n",
    "print(predictions[0, 0])"
   ]
  },
  {
   "cell_type": "code",
   "execution_count": null,
   "metadata": {},
   "outputs": [],
   "source": []
  }
 ],
 "metadata": {
  "interpreter": {
   "hash": "b305a4b1270f31cd6e864a4acd6c4c9eb3f00ef58e83b7f05205adf2ab7c38fb"
  },
  "kernelspec": {
   "display_name": "Python 3.9.10 ('ml-env')",
   "language": "python",
   "name": "python3"
  },
  "language_info": {
   "codemirror_mode": {
    "name": "ipython",
    "version": 3
   },
   "file_extension": ".py",
   "mimetype": "text/x-python",
   "name": "python",
   "nbconvert_exporter": "python",
   "pygments_lexer": "ipython3",
   "version": "3.9.10"
  },
  "orig_nbformat": 4
 },
 "nbformat": 4,
 "nbformat_minor": 2
}
